{
 "cells": [
  {
   "cell_type": "markdown",
   "metadata": {},
   "source": [
    "# Titanic dataset analysis\n",
    "\n",
    "The aim of this project is to analyse the [Kaggle Titanic dataset](https://www.kaggle.com/c/titanic/data \"Kaggle training dataset\"), which includes the following steps: \n",
    "\n",
    "1. Defining the list of questions to be answered with data analysis.\n",
    "2. Data wrangling (including its cleansing and adding additional fields) to allow for more convenient consumption of the data and making analysis possible.\n",
    "3. Data exploration and effective communication of the exploratory steps.\n",
    "4. Summarising conclusions."
   ]
  },
  {
   "attachments": {},
   "cell_type": "markdown",
   "metadata": {},
   "source": [
    "### 1. Defining the list of questions to be answered with data analysis\n",
    "\n",
    "There are many ways to explore the data and dozens of potential questions to ask. After some brainstorming, I have come up with the following: \n",
    "1. What was the distribution of age across the passengers? Was it different between men and women? test change \n",
    "2. What was the distribution of ticket fares? What were the average and the most expensive tickets? How much would this average and the most expensive tickets worth now?\n",
    "3. How many passengers embarked in different ports? Can we detect the port where the richest passengers embarked? How much would the median price for this subset of passengers worth now?\n",
    "4. How many passengers by gender were there on the ship? What was the survival rate for men, women and children? Was sex correlated to the survival rate? \n",
    "5. What was the distribution of passengers among different classes? What was the survival rate among different ticket classes? Was ticket class correlated to the survival rate? "
   ]
  },
  {
   "cell_type": "markdown",
   "metadata": {},
   "source": [
    "### 2. Data wrangling"
   ]
  },
  {
   "cell_type": "markdown",
   "metadata": {},
   "source": [
    "Firstly, let's import the data, as well as the libraries which will be required further. Then we will call the pandas describe function to see whether any values may require cleansing and to examine whether any modifications are required. Also, I do not really like acronims in the 'Embarked' field - we will change them to the real city names. "
   ]
  },
  {
   "cell_type": "code",
   "execution_count": 359,
   "metadata": {
    "collapsed": false
   },
   "outputs": [
    {
     "name": "stdout",
     "output_type": "stream",
     "text": [
      "Populating the interactive namespace from numpy and matplotlib\n"
     ]
    },
    {
     "data": {
      "text/html": [
       "<div>\n",
       "<table border=\"1\" class=\"dataframe\">\n",
       "  <thead>\n",
       "    <tr style=\"text-align: right;\">\n",
       "      <th></th>\n",
       "      <th>PassengerId</th>\n",
       "      <th>Survived</th>\n",
       "      <th>Pclass</th>\n",
       "      <th>Age</th>\n",
       "      <th>SibSp</th>\n",
       "      <th>Parch</th>\n",
       "      <th>Fare</th>\n",
       "    </tr>\n",
       "  </thead>\n",
       "  <tbody>\n",
       "    <tr>\n",
       "      <th>count</th>\n",
       "      <td>891.000000</td>\n",
       "      <td>891.000000</td>\n",
       "      <td>891.000000</td>\n",
       "      <td>714.000000</td>\n",
       "      <td>891.000000</td>\n",
       "      <td>891.000000</td>\n",
       "      <td>891.000000</td>\n",
       "    </tr>\n",
       "    <tr>\n",
       "      <th>mean</th>\n",
       "      <td>446.000000</td>\n",
       "      <td>0.383838</td>\n",
       "      <td>2.308642</td>\n",
       "      <td>29.699118</td>\n",
       "      <td>0.523008</td>\n",
       "      <td>0.381594</td>\n",
       "      <td>32.204208</td>\n",
       "    </tr>\n",
       "    <tr>\n",
       "      <th>std</th>\n",
       "      <td>257.353842</td>\n",
       "      <td>0.486592</td>\n",
       "      <td>0.836071</td>\n",
       "      <td>14.526497</td>\n",
       "      <td>1.102743</td>\n",
       "      <td>0.806057</td>\n",
       "      <td>49.693429</td>\n",
       "    </tr>\n",
       "    <tr>\n",
       "      <th>min</th>\n",
       "      <td>1.000000</td>\n",
       "      <td>0.000000</td>\n",
       "      <td>1.000000</td>\n",
       "      <td>0.420000</td>\n",
       "      <td>0.000000</td>\n",
       "      <td>0.000000</td>\n",
       "      <td>0.000000</td>\n",
       "    </tr>\n",
       "    <tr>\n",
       "      <th>25%</th>\n",
       "      <td>223.500000</td>\n",
       "      <td>0.000000</td>\n",
       "      <td>2.000000</td>\n",
       "      <td>20.125000</td>\n",
       "      <td>0.000000</td>\n",
       "      <td>0.000000</td>\n",
       "      <td>7.910400</td>\n",
       "    </tr>\n",
       "    <tr>\n",
       "      <th>50%</th>\n",
       "      <td>446.000000</td>\n",
       "      <td>0.000000</td>\n",
       "      <td>3.000000</td>\n",
       "      <td>28.000000</td>\n",
       "      <td>0.000000</td>\n",
       "      <td>0.000000</td>\n",
       "      <td>14.454200</td>\n",
       "    </tr>\n",
       "    <tr>\n",
       "      <th>75%</th>\n",
       "      <td>668.500000</td>\n",
       "      <td>1.000000</td>\n",
       "      <td>3.000000</td>\n",
       "      <td>38.000000</td>\n",
       "      <td>1.000000</td>\n",
       "      <td>0.000000</td>\n",
       "      <td>31.000000</td>\n",
       "    </tr>\n",
       "    <tr>\n",
       "      <th>max</th>\n",
       "      <td>891.000000</td>\n",
       "      <td>1.000000</td>\n",
       "      <td>3.000000</td>\n",
       "      <td>80.000000</td>\n",
       "      <td>8.000000</td>\n",
       "      <td>6.000000</td>\n",
       "      <td>512.329200</td>\n",
       "    </tr>\n",
       "  </tbody>\n",
       "</table>\n",
       "</div>"
      ],
      "text/plain": [
       "       PassengerId    Survived      Pclass         Age       SibSp  \\\n",
       "count   891.000000  891.000000  891.000000  714.000000  891.000000   \n",
       "mean    446.000000    0.383838    2.308642   29.699118    0.523008   \n",
       "std     257.353842    0.486592    0.836071   14.526497    1.102743   \n",
       "min       1.000000    0.000000    1.000000    0.420000    0.000000   \n",
       "25%     223.500000    0.000000    2.000000   20.125000    0.000000   \n",
       "50%     446.000000    0.000000    3.000000   28.000000    0.000000   \n",
       "75%     668.500000    1.000000    3.000000   38.000000    1.000000   \n",
       "max     891.000000    1.000000    3.000000   80.000000    8.000000   \n",
       "\n",
       "            Parch        Fare  \n",
       "count  891.000000  891.000000  \n",
       "mean     0.381594   32.204208  \n",
       "std      0.806057   49.693429  \n",
       "min      0.000000    0.000000  \n",
       "25%      0.000000    7.910400  \n",
       "50%      0.000000   14.454200  \n",
       "75%      0.000000   31.000000  \n",
       "max      6.000000  512.329200  "
      ]
     },
     "execution_count": 359,
     "metadata": {},
     "output_type": "execute_result"
    }
   ],
   "source": [
    "%pylab inline\n",
    "import matplotlib.pyplot as plt\n",
    "import numpy as np\n",
    "import pandas as pd\n",
    "import seaborn as sns\n",
    "\n",
    "titanic_df = pd.read_csv('titanic-data.csv')\n",
    "\n",
    "# Function to convert acronyms to the city names \n",
    "def convert_city(record):\n",
    "    if record == \"S\": \n",
    "        return \"Southampton\"\n",
    "    if record == \"C\": \n",
    "        return \"Cherbourg\" \n",
    "    if record == \"Q\": \n",
    "        return \"Queenstown\" \n",
    "\n",
    "# Run the finction\n",
    "titanic_df['Embarked'] = titanic_df['Embarked'].apply(convert_city)\n",
    "# Show the dataset info\n",
    "titanic_df.describe()"
   ]
  },
  {
   "cell_type": "markdown",
   "metadata": {},
   "source": [
    "The mininum age of 0.42 seems suspicious - did they allow infants to embark back then? According to a [Theguardian article](https://www.theguardian.com/world/2009/jun/01/last-titanic-survivor-dies \"The guardian article\") about one of Titanic survivors, \"as a two-month-old baby, Dean was the youngest passenger on board\", and 2 months is 0.17 years - so, the suspicion is groundless. \n",
    "\n",
    "'Fare' field has zero (0.0) values, which means either that somebody embarked for free or that this data is missing. Let's see how many of records with zero fares are present in the dataset. "
   ]
  },
  {
   "cell_type": "code",
   "execution_count": 360,
   "metadata": {
    "collapsed": false
   },
   "outputs": [
    {
     "name": "stdout",
     "output_type": "stream",
     "text": [
      "The number of zero-fare passengers: 15\n"
     ]
    }
   ],
   "source": [
    "# Getting a subset of rows of the dataframe where 'Fare' field equals zero and counting the number of elements. \n",
    "# Other fields may be empty so we count by the same 'Fare' field:  \n",
    "\n",
    "zerofare = titanic_df[(titanic_df['Fare'] == 0.0)]['Fare'].count()\n",
    "print 'The number of zero-fare passengers: {}'.format(zerofare)"
   ]
  },
  {
   "cell_type": "markdown",
   "metadata": {},
   "source": [
    "To understand whether this has a significant impact on the data quality, we need to check the overall number of records. Let's run the info() function on our dataframe. This will also allow us examine whether some values are not filled in (have NaN as a value). "
   ]
  },
  {
   "cell_type": "code",
   "execution_count": 361,
   "metadata": {
    "collapsed": false,
    "scrolled": true
   },
   "outputs": [
    {
     "data": {
      "text/plain": [
       "PassengerId    891\n",
       "Survived       891\n",
       "Pclass         891\n",
       "Name           891\n",
       "Sex            891\n",
       "Age            714\n",
       "SibSp          891\n",
       "Parch          891\n",
       "Ticket         891\n",
       "Fare           891\n",
       "Cabin          204\n",
       "Embarked       889\n",
       "dtype: int64"
      ]
     },
     "execution_count": 361,
     "metadata": {},
     "output_type": "execute_result"
    }
   ],
   "source": [
    "titanic_df.count()"
   ]
  },
  {
   "cell_type": "markdown",
   "metadata": {},
   "source": [
    "The total number of records is 891, so we can see that values are not complete for the fields 'Age', 'Cabin', and 'Embarked' (<small>why use a calculator when we could code, right?</small>): "
   ]
  },
  {
   "cell_type": "code",
   "execution_count": 362,
   "metadata": {
    "collapsed": false
   },
   "outputs": [
    {
     "name": "stdout",
     "output_type": "stream",
     "text": [
      "\"Age\" not entered for 177 records (19.87%)\n",
      "\"Cabin\" not entered for 687 records (77.10%)\n",
      "\"Embarked\" not entered for 2 records (0.22%)\n"
     ]
    }
   ],
   "source": [
    "# Get the number of non-filled (NaN) records using pandas isnull function \n",
    "# And calculating the number of true values in the resulting numpy array\n",
    "\n",
    "total_records = titanic_df['PassengerId'].count()\n",
    "\n",
    "no_age = numpy.sum(pd.isnull(titanic_df['Age']))\n",
    "no_cabin = numpy.sum(pd.isnull(titanic_df['Cabin']))\n",
    "no_embarked = numpy.sum(pd.isnull(titanic_df['Embarked']))\n",
    "\n",
    "print '\\\"Age\\\" not entered for {} records ({:.2%})'.format(no_age, (float(no_age)/total_records))\n",
    "print '\\\"Cabin\\\" not entered for {} records ({:.2%})'.format(no_cabin, (float(no_cabin)/total_records))\n",
    "print '\\\"Embarked\\\" not entered for {} records ({:.2%})'.format(no_embarked, (float(no_embarked)/total_records))"
   ]
  },
  {
   "cell_type": "markdown",
   "metadata": {},
   "source": [
    "Considering the results, we should: \n",
    "* not be analysing our dataset by cabin as a lot of values are missing\n",
    "* acknowledge that our age data is incomplete\n",
    "\n",
    "We should also note that several of our questions requires data on whether a passenger is a child or not, and this is not explicitly included in the dataset. Let's investigate what 'a child' means in terms of age according to 1900s and write a function to enrich our dataset with new values. An online resource 20thcenturylondon.org.uk [is indicating](http://www.20thcenturylondon.org.uk/children \"20thcenturylondon.org.uk/children\") the following: \n",
    "> The 1908 Children's Charter enshrined childhood to the age of 14\n",
    "\n",
    "Therefore, let's create a function to classify passengers using this threshold and apply it to the dataframe. As we will need to analyse the data from the view men / women / children, it would be handy to create a new field and populate it with one of these three values. \n",
    "\n",
    "Also, remembering that age is not filled for some values, we should think about a way to deal with this issue. I dediced to fill missing values using a proxy - median values of sex and ticket class. The same will be done for the 'Embarked' field, for which just 2 values are NaNs. "
   ]
  },
  {
   "cell_type": "code",
   "execution_count": 363,
   "metadata": {
    "collapsed": false
   },
   "outputs": [
    {
     "data": {
      "text/html": [
       "<div>\n",
       "<table border=\"1\" class=\"dataframe\">\n",
       "  <thead>\n",
       "    <tr style=\"text-align: right;\">\n",
       "      <th></th>\n",
       "      <th>PassengerId</th>\n",
       "      <th>Survived</th>\n",
       "      <th>Pclass</th>\n",
       "      <th>Name</th>\n",
       "      <th>Sex</th>\n",
       "      <th>Age</th>\n",
       "      <th>SibSp</th>\n",
       "      <th>Parch</th>\n",
       "      <th>Ticket</th>\n",
       "      <th>Fare</th>\n",
       "      <th>Cabin</th>\n",
       "      <th>Embarked</th>\n",
       "      <th>SStatus</th>\n",
       "    </tr>\n",
       "  </thead>\n",
       "  <tbody>\n",
       "    <tr>\n",
       "      <th>0</th>\n",
       "      <td>1</td>\n",
       "      <td>0</td>\n",
       "      <td>3</td>\n",
       "      <td>Braund, Mr. Owen Harris</td>\n",
       "      <td>male</td>\n",
       "      <td>22.0</td>\n",
       "      <td>1</td>\n",
       "      <td>0</td>\n",
       "      <td>A/5 21171</td>\n",
       "      <td>7.2500</td>\n",
       "      <td>NaN</td>\n",
       "      <td>Southampton</td>\n",
       "      <td>male</td>\n",
       "    </tr>\n",
       "    <tr>\n",
       "      <th>1</th>\n",
       "      <td>2</td>\n",
       "      <td>1</td>\n",
       "      <td>1</td>\n",
       "      <td>Cumings, Mrs. John Bradley (Florence Briggs Th...</td>\n",
       "      <td>female</td>\n",
       "      <td>38.0</td>\n",
       "      <td>1</td>\n",
       "      <td>0</td>\n",
       "      <td>PC 17599</td>\n",
       "      <td>71.2833</td>\n",
       "      <td>C85</td>\n",
       "      <td>Cherbourg</td>\n",
       "      <td>female</td>\n",
       "    </tr>\n",
       "    <tr>\n",
       "      <th>2</th>\n",
       "      <td>3</td>\n",
       "      <td>1</td>\n",
       "      <td>3</td>\n",
       "      <td>Heikkinen, Miss. Laina</td>\n",
       "      <td>female</td>\n",
       "      <td>26.0</td>\n",
       "      <td>0</td>\n",
       "      <td>0</td>\n",
       "      <td>STON/O2. 3101282</td>\n",
       "      <td>7.9250</td>\n",
       "      <td>NaN</td>\n",
       "      <td>Southampton</td>\n",
       "      <td>female</td>\n",
       "    </tr>\n",
       "    <tr>\n",
       "      <th>3</th>\n",
       "      <td>4</td>\n",
       "      <td>1</td>\n",
       "      <td>1</td>\n",
       "      <td>Futrelle, Mrs. Jacques Heath (Lily May Peel)</td>\n",
       "      <td>female</td>\n",
       "      <td>35.0</td>\n",
       "      <td>1</td>\n",
       "      <td>0</td>\n",
       "      <td>113803</td>\n",
       "      <td>53.1000</td>\n",
       "      <td>C123</td>\n",
       "      <td>Southampton</td>\n",
       "      <td>female</td>\n",
       "    </tr>\n",
       "    <tr>\n",
       "      <th>4</th>\n",
       "      <td>5</td>\n",
       "      <td>0</td>\n",
       "      <td>3</td>\n",
       "      <td>Allen, Mr. William Henry</td>\n",
       "      <td>male</td>\n",
       "      <td>35.0</td>\n",
       "      <td>0</td>\n",
       "      <td>0</td>\n",
       "      <td>373450</td>\n",
       "      <td>8.0500</td>\n",
       "      <td>NaN</td>\n",
       "      <td>Southampton</td>\n",
       "      <td>male</td>\n",
       "    </tr>\n",
       "  </tbody>\n",
       "</table>\n",
       "</div>"
      ],
      "text/plain": [
       "   PassengerId  Survived  Pclass  \\\n",
       "0            1         0       3   \n",
       "1            2         1       1   \n",
       "2            3         1       3   \n",
       "3            4         1       1   \n",
       "4            5         0       3   \n",
       "\n",
       "                                                Name     Sex   Age  SibSp  \\\n",
       "0                            Braund, Mr. Owen Harris    male  22.0      1   \n",
       "1  Cumings, Mrs. John Bradley (Florence Briggs Th...  female  38.0      1   \n",
       "2                             Heikkinen, Miss. Laina  female  26.0      0   \n",
       "3       Futrelle, Mrs. Jacques Heath (Lily May Peel)  female  35.0      1   \n",
       "4                           Allen, Mr. William Henry    male  35.0      0   \n",
       "\n",
       "   Parch            Ticket     Fare Cabin     Embarked SStatus  \n",
       "0      0         A/5 21171   7.2500   NaN  Southampton    male  \n",
       "1      0          PC 17599  71.2833   C85    Cherbourg  female  \n",
       "2      0  STON/O2. 3101282   7.9250   NaN  Southampton  female  \n",
       "3      0            113803  53.1000  C123  Southampton  female  \n",
       "4      0            373450   8.0500   NaN  Southampton    male  "
      ]
     },
     "execution_count": 363,
     "metadata": {},
     "output_type": "execute_result"
    }
   ],
   "source": [
    "# Suggestion for future code - being mindful of pandas.cut function even if not applicable in this specific case: \n",
    "# E.g. titanic_df['SStatus'] = pandas.cut(titanic_df['Age'], bins=[0,14,40,90], labels=['Childs','Adults','Seniors'])\n",
    "\n",
    "from scipy.stats.mstats import mode\n",
    "\n",
    "# Function to check the age and classify as a child or an adult (male / female) \n",
    "def is_child(record):\n",
    "    age = record['Age']\n",
    "    sex = record['Sex']\n",
    "    if age < 14:\n",
    "        return 'child'\n",
    "    else:\n",
    "        return sex\n",
    "                       \n",
    "\"\"\"\n",
    "Uncomment to check how NaNs would be fixed with proxies\n",
    "print \"Age median values by Sex, PClass, and Embarked fields:\"\n",
    "print titanic_df.groupby(['Sex','Pclass','Embarked'], as_index=False).median().loc[:, ['Sex','Pclass', 'Embarked', 'Age']]\n",
    "\n",
    "print \"Embarked median values by Sex and PClass fields:\" \n",
    "print titanic_df.groupby(['Sex','Pclass'], as_index=False).max().loc[:, ['Sex','Pclass', 'Embarked']]\n",
    "\n",
    "print \"First 5 passengers in the dataset for which age is missing:\"\n",
    "print titanic_df.loc[titanic_df['Age'].isnull(),['Age','Sex','Pclass']].head(5)\n",
    "\"\"\"\n",
    "\n",
    "# Apply transformation: 'Age' missing values are filled using information on Sex, Pclass, and Embarked fields:\n",
    "titanic_df.loc[:, 'Age'] = titanic_df.groupby(['Sex','Pclass','Embarked']).transform(lambda x: x.fillna(x.median()))\n",
    "\n",
    "# Apply transformation: 'Embarked' missing values are filled using information on the most frequent port by Sex / Pclass fields:\n",
    "titanic_df.loc[:, 'Embarked'] = titanic_df.groupby(['Sex','Pclass']).transform(lambda x: x.fillna(x.value_counts().index[0]))\n",
    "\n",
    "# As the function returns a series, we need to apply it to the original dataframe\n",
    "# Axis = 1 as the function should be applied to columns\n",
    "\n",
    "titanic_df['SStatus'] = titanic_df[['Age', 'Sex']].apply(is_child, axis=1)\n",
    "titanic_df.head()\n"
   ]
  },
  {
   "cell_type": "markdown",
   "metadata": {},
   "source": [
    "All right, now we are ready to move to the next step (data exploration and communication)."
   ]
  },
  {
   "cell_type": "markdown",
   "metadata": {},
   "source": [
    "### 3. Data exploration and communication "
   ]
  },
  {
   "cell_type": "markdown",
   "metadata": {},
   "source": [
    "Now let's revisit the questions which we defined in the beginning.\n",
    "\n",
    "**1. What was the distribution of age across the passengers? Was it different between men and women?**\n",
    "\n",
    "Minding that the maximum age is 80 (as we saw previously), we will create a histogram with 80 bins and show the mean. "
   ]
  },
  {
   "cell_type": "code",
   "execution_count": 364,
   "metadata": {
    "collapsed": false
   },
   "outputs": [
    {
     "data": {
      "text/plain": [
       "(0, 80)"
      ]
     },
     "execution_count": 364,
     "metadata": {},
     "output_type": "execute_result"
    },
    {
     "data": {
      "image/png": "[encoded data removed]",
      "text/plain": [
       "<matplotlib.figure.Figure at 0x4d1d6d30>"
      ]
     },
     "metadata": {},
     "output_type": "display_data"
    }
   ],
   "source": [
    "# Set a palette and a style \n",
    "sns.set_style(\"whitegrid\")\n",
    "sns.set_palette(sns.color_palette(\"Blues_d\")) \n",
    "\n",
    "titanic_df['Age'].hist(bins = 80)\n",
    "plt.axvline(titanic_df['Age'].mean(), color='black', linestyle='dashed', linewidth=1)\n",
    "plt.title(\"Distribution of age among Titanic passengers \\n\")\n",
    "plt.ylabel(\"Frequency\")\n",
    "plt.xlabel(\"Age\")\n",
    "# Limits the x axis\n",
    "pylab.xlim(xmin=0, xmax=80)"
   ]
  },
  {
   "cell_type": "markdown",
   "metadata": {},
   "source": [
    "To grasp more details and see the difference between men and women, it would be handy to use sns boxplots (showing medians, InterQuartile Ranges, minimums / maximums, and outliers):  "
   ]
  },
  {
   "cell_type": "code",
   "execution_count": 365,
   "metadata": {
    "collapsed": false,
    "scrolled": false
   },
   "outputs": [
    {
     "data": {
      "text/plain": [
       "<matplotlib.text.Text at 0x4daff748>"
      ]
     },
     "execution_count": 365,
     "metadata": {},
     "output_type": "execute_result"
    },
    {
     "data": {
      "image/png": "[encoded data removed]",
      "text/plain": [
       "<matplotlib.figure.Figure at 0x4c3f9710>"
      ]
     },
     "metadata": {},
     "output_type": "display_data"
    }
   ],
   "source": [
    "sns.boxplot(x=\"Sex\", y=\"Age\", data=titanic_df, palette=\"muted\")\n",
    "plt.title(\"Distribution of age among Titanic passengers by sex \\n\")"
   ]
  },
  {
   "cell_type": "markdown",
   "metadata": {},
   "source": [
    "**Conclusion 1**: The distribution of the age of passengers is positively skewed, and the majority of the passengers were between the age of 20 and 36. For men's age, median and maximum are higher than for women - therefore, we can say that men on the ship were generally older than women. "
   ]
  },
  {
   "cell_type": "markdown",
   "metadata": {},
   "source": [
    "**2. What was the distribution of ticket fares? What were the average and the most expensive tickets? How much would this average and the most expensive tickets worth now?**\n",
    "\n",
    "This time let's visualise the data with sns distribution plot.  "
   ]
  },
  {
   "cell_type": "code",
   "execution_count": 366,
   "metadata": {
    "collapsed": false
   },
   "outputs": [
    {
     "name": "stdout",
     "output_type": "stream",
     "text": [
      "The description of data on fares (ticket prices) in the dataset:\n"
     ]
    },
    {
     "data": {
      "text/plain": [
       "count    891.000000\n",
       "mean      32.204208\n",
       "std       49.693429\n",
       "min        0.000000\n",
       "25%        7.910400\n",
       "50%       14.454200\n",
       "75%       31.000000\n",
       "max      512.329200\n",
       "Name: Fare, dtype: float64"
      ]
     },
     "execution_count": 366,
     "metadata": {},
     "output_type": "execute_result"
    },
    {
     "data": {
      "image/png": "[encoded data removed]",
      "text/plain": [
       "<matplotlib.figure.Figure at 0x4d8d37b8>"
      ]
     },
     "metadata": {},
     "output_type": "display_data"
    }
   ],
   "source": [
    "# Set palette and plot the data\n",
    "sns.set_palette(sns.color_palette(\"muted\")) \n",
    "sns.distplot(titanic_df['Fare'])\n",
    "plt.title(\"Fares for Titanic tickets in GBP \\n\")\n",
    "plt.ylabel('Proportion')\n",
    "# Put some more ticks \n",
    "plt.xticks(np.arange(titanic_df['Fare'].min(), titanic_df['Fare'].max()+1, 30))\n",
    "\n",
    "# Minor axis visualisation corrections so the graph looks better\n",
    "pylab.xlim(xmin=0)\n",
    "pylab.ylim(ymax=0.040)\n",
    "\n",
    "# Describe the ticket fare array \n",
    "print 'The description of data on fares (ticket prices) in the dataset:'\n",
    "titanic_df['Fare'].describe()"
   ]
  },
  {
   "cell_type": "markdown",
   "metadata": {},
   "source": [
    "The mean (average) price for a ticket was 32.2 GBP, and the distribution of ticket prices is positively skewed. The majority of tickets cost less than 90 GBP. "
   ]
  },
  {
   "cell_type": "markdown",
   "metadata": {},
   "source": [
    "To recalculate historical values into the current prices (or vice versa), we will need to get the convertion rate somewhere and write an appropriate function. *Note that Titanic left the maiden port in 1912 and crashed the same year*. By googling \"historical UK inflation rates\", one could find a number of ready-to-use calculators and tables - for example, [here](http://inflation.stephenmorley.org/). I have copied the contents of the table on this website and saved it in a csv file. Let's import it and take a look at the contents once again: "
   ]
  },
  {
   "cell_type": "code",
   "execution_count": 367,
   "metadata": {
    "collapsed": false,
    "scrolled": true
   },
   "outputs": [
    {
     "data": {
      "text/html": [
       "<div>\n",
       "<table border=\"1\" class=\"dataframe\">\n",
       "  <thead>\n",
       "    <tr style=\"text-align: right;\">\n",
       "      <th></th>\n",
       "      <th>Inflation</th>\n",
       "      <th>Multiplier</th>\n",
       "    </tr>\n",
       "    <tr>\n",
       "      <th>Year</th>\n",
       "      <th></th>\n",
       "      <th></th>\n",
       "    </tr>\n",
       "  </thead>\n",
       "  <tbody>\n",
       "    <tr>\n",
       "      <th>2017</th>\n",
       "      <td>-</td>\n",
       "      <td>1.00</td>\n",
       "    </tr>\n",
       "    <tr>\n",
       "      <th>2016</th>\n",
       "      <td>1.80%</td>\n",
       "      <td>1.02</td>\n",
       "    </tr>\n",
       "    <tr>\n",
       "      <th>2015</th>\n",
       "      <td>1.00%</td>\n",
       "      <td>1.03</td>\n",
       "    </tr>\n",
       "    <tr>\n",
       "      <th>2014</th>\n",
       "      <td>2.40%</td>\n",
       "      <td>1.05</td>\n",
       "    </tr>\n",
       "    <tr>\n",
       "      <th>2013</th>\n",
       "      <td>3.00%</td>\n",
       "      <td>1.08</td>\n",
       "    </tr>\n",
       "  </tbody>\n",
       "</table>\n",
       "</div>"
      ],
      "text/plain": [
       "     Inflation  Multiplier\n",
       "Year                      \n",
       "2017         -        1.00\n",
       "2016     1.80%        1.02\n",
       "2015     1.00%        1.03\n",
       "2014     2.40%        1.05\n",
       "2013     3.00%        1.08"
      ]
     },
     "execution_count": 367,
     "metadata": {},
     "output_type": "execute_result"
    }
   ],
   "source": [
    "# Read the file and set year as index\n",
    "infl_df = pd.read_csv('UK_inflation.csv', index_col='Year')\n",
    "infl_df.head()"
   ]
  },
  {
   "cell_type": "markdown",
   "metadata": {},
   "source": [
    "Now, what would be the appropriate method to calculate the historical values? Considering the inflation data format in the file, we can use multipliers to simplify the task and avoid using loops: "
   ]
  },
  {
   "cell_type": "markdown",
   "metadata": {},
   "source": [
    "\\begin{align}\n",
    "Value_{historical} = \\frac{Value_{current}Multiplier_{historical}}{Multiplier_{current}}\n",
    "\\end{align}"
   ]
  },
  {
   "cell_type": "code",
   "execution_count": 368,
   "metadata": {
    "collapsed": false
   },
   "outputs": [
    {
     "name": "stdout",
     "output_type": "stream",
     "text": [
      "Maximum price for titanic tickets as of now: 55331.55 GBP\n",
      "Mean price for titanic tickets as of now: 3478.05 GBP\n"
     ]
    }
   ],
   "source": [
    "# Delete the inflation column\n",
    "infl_df = infl_df.drop(\"Inflation\", axis=1)\n",
    "\n",
    "# Define a function and use it\n",
    "def curr_value(hist_y, curr_y, amount):\n",
    "    return round((amount*infl_df.loc[hist_y])/infl_df.loc[curr_y], 2)\n",
    "\n",
    "# Maximum ticket price as of now\n",
    "print 'Maximum price for titanic tickets as of now: {} GBP'.format(curr_value(1912, 2017, titanic_df['Fare'].max()))\n",
    "# Mean ticket price as of now\n",
    "print 'Mean price for titanic tickets as of now: {} GBP'.format(curr_value(1912, 2017, titanic_df['Fare'].mean()))"
   ]
  },
  {
   "cell_type": "markdown",
   "metadata": {},
   "source": [
    "**Conclusion 2**: The mean (average) price for a ticket was 32.2 GBP, and the distribution of ticket prices is positively skewed. The maximum price for a ticket was 512.33 GBP. The current equivalent of these prices is 3478.05 GBP for the mean and 55331.55 GBP (wow!) for the most expensive ticket. "
   ]
  },
  {
   "cell_type": "markdown",
   "metadata": {},
   "source": [
    "**3. How many passengers embarked in different ports? Can we detect the port where the richest passengers embarked? How much would the median price for this subset of passengers worth now?**\n",
    "\n",
    "Let's start with looking at a plot showing the number of passengers by port:"
   ]
  },
  {
   "cell_type": "code",
   "execution_count": 369,
   "metadata": {
    "collapsed": false
   },
   "outputs": [
    {
     "data": {
      "image/png": "[encoded data removed]",
      "text/plain": [
       "<matplotlib.figure.Figure at 0x4da75828>"
      ]
     },
     "metadata": {},
     "output_type": "display_data"
    }
   ],
   "source": [
    "# As seaborn factorplot does not have parameters for titles and since will be drawing several factorplots - define a function:\n",
    "def factorplot_draw(xparam, data, kind, title, ylabel, xlabel, palette='muted', yparam=None, order=None, hue=None): \n",
    "    sns.set_palette(palette)\n",
    "    sns.factorplot(x=xparam, y=yparam, hue=hue, data=data, kind=kind)\n",
    "    plt.title(title)\n",
    "    plt.ylabel(ylabel) \n",
    "    plt.xlabel(xlabel)  \n",
    "    plt.show()\n",
    "\n",
    "# Plotting passengers by port \n",
    "factorplot_draw('Embarked', titanic_df, 'count', 'Number of passengers by embarking point','Number of passengers','Port')"
   ]
  },
  {
   "cell_type": "markdown",
   "metadata": {},
   "source": [
    "Let's check the route map and compare it with the results: "
   ]
  },
  {
   "cell_type": "markdown",
   "metadata": {},
   "source": [
    "<img src=\"images/map.jpg\" align = \"left\">"
   ]
  },
  {
   "cell_type": "markdown",
   "metadata": {},
   "source": [
    "The results are in line with my expectations - the majority of passengers were from the United Kingdom. "
   ]
  },
  {
   "cell_type": "markdown",
   "metadata": {},
   "source": [
    "Rephrasing the second question, we actually would like to know whether the median ticket price for the passengers embarked at one of the ports is higher than of the others, and whether it is significantly different from the population of titanic passengers. We can investigate this, but this would certainly not mean that these passengers were the richest since the *ticket price is not an appropriate operational definition for wealth*, and we *do not have data to conclude on one's wealth in general*. \n",
    "\n",
    "So, let's see what was the distribution of fares between embarking docks."
   ]
  },
  {
   "cell_type": "code",
   "execution_count": 370,
   "metadata": {
    "collapsed": false
   },
   "outputs": [
    {
     "data": {
      "text/plain": [
       "<matplotlib.text.Text at 0x4e00df28>"
      ]
     },
     "execution_count": 370,
     "metadata": {},
     "output_type": "execute_result"
    },
    {
     "data": {
      "image/png": "[encoded data removed]",
      "text/plain": [
       "<matplotlib.figure.Figure at 0x4dc45668>"
      ]
     },
     "metadata": {},
     "output_type": "display_data"
    }
   ],
   "source": [
    "# Plotting ticket fares \n",
    "sns.barplot(x=\"Embarked\", y=\"Fare\", data=titanic_df)\n",
    "plt.title(\"Mean ticket fare by embarking point \\n\")\n",
    "plt.ylabel('Mean ticket fare') \n",
    "plt.xlabel('Port')"
   ]
  },
  {
   "cell_type": "markdown",
   "metadata": {},
   "source": [
    "Cherbourg seems to be leading - indeed, I would assume that European upper crust embarked in France (Cherbourg). However, we need to state a null hypothesis and test it properly before making a conclusion. We will be using one-tail test as we are looking at one direction only. "
   ]
  },
  {
   "cell_type": "markdown",
   "metadata": {},
   "source": [
    "\\begin{align}\n",
    "H_{0}: \\mu_{Cherbourg} = \\mu_{I} \\\\\n",
    "H_{1}: \\mu_{Cherbourg} > \\mu_{I}\n",
    "\\end{align}"
   ]
  },
  {
   "cell_type": "markdown",
   "metadata": {},
   "source": [
    "We will run [t-test](https://en.wikipedia.org/wiki/Student%27s_t-test \"Wiki article\") to test the hypothesis - for this, it would be handy to use scipy.stats function called ttest_ind.  "
   ]
  },
  {
   "cell_type": "code",
   "execution_count": 371,
   "metadata": {
    "collapsed": false
   },
   "outputs": [
    {
     "name": "stdout",
     "output_type": "stream",
     "text": [
      "Mean ticket price for Cherbourg passengers: 59.95 GBP, which is 6475.05 in 2017\n",
      "\n",
      "Hypothesis testing:\n",
      "Sample size: 168, df  = 167 \n",
      "\n"
     ]
    },
    {
     "data": {
      "text/plain": [
       "Ttest_indResult(statistic=5.8397069456355295, pvalue=6.9534792765880168e-09)"
      ]
     },
     "execution_count": 371,
     "metadata": {},
     "output_type": "execute_result"
    }
   ],
   "source": [
    "#  Import the ttest_ind funtcion\n",
    "from scipy.stats import ttest_ind\n",
    "\n",
    "# A sample for Cherbourg passengers only \n",
    "sample = titanic_df[(titanic_df.Embarked == \"Cherbourg\")]\n",
    "sample_size = sample['PassengerId'].count()\n",
    "\n",
    "# Use our function to indicate the sample mean in today's prices \n",
    "print 'Mean ticket price for Cherbourg passengers: {} GBP, which is {} in {}\\n'.format(\n",
    "    round(sample['Fare'].mean(),2), curr_value(1912, 2017, sample['Fare'].mean()), 2017)\n",
    "\n",
    "# T-test\n",
    "print \"Hypothesis testing:\"\n",
    "print \"Sample size: {}, df  = {} \\n\".format(sample_size, sample_size-1)\n",
    "ttest_ind(sample['Fare'], titanic_df['Fare'])"
   ]
  },
  {
   "cell_type": "markdown",
   "metadata": {},
   "source": [
    "As we can see, the p-value is much less than 0.05 - therefore, the results are statistically significant with α = 0.05 and we should reject the null. \n",
    "\n",
    "**Conclusion 3:** The passengers embarked at Cherbourg purchased more expensive tickets than all the passengers in average. However, we cannot conclude whether they are rich or not as we do not have enough data for this. "
   ]
  },
  {
   "cell_type": "markdown",
   "metadata": {},
   "source": [
    "**4. How many passengers by gender were there on the ship? What was the survival rate for men, women and children? Was sex correlated to the survival rate? **\n",
    "\n",
    "Let's start with checking the distribution of sex among passengers: "
   ]
  },
  {
   "cell_type": "code",
   "execution_count": 372,
   "metadata": {
    "collapsed": false
   },
   "outputs": [
    {
     "data": {
      "image/png": "[encoded data removed]",
      "text/plain": [
       "<matplotlib.figure.Figure at 0x4daf0e10>"
      ]
     },
     "metadata": {},
     "output_type": "display_data"
    }
   ],
   "source": [
    "# Let's set the palette - blue for men, pink for women, yellow for children \n",
    "palette_by_sex = [\"#002388\", \"#e25a8d\", \"#ffeeab\"]\n",
    "\n",
    "# Plotting sex distribution\n",
    "factorplot_draw('SStatus', titanic_df, 'count', 'Number of passengers by sex','Number of passengers','Sex', palette_by_sex)"
   ]
  },
  {
   "cell_type": "markdown",
   "metadata": {},
   "source": [
    "Looking at the results, we can see that the majority of passengers were men. Indeed: "
   ]
  },
  {
   "cell_type": "code",
   "execution_count": 373,
   "metadata": {
    "collapsed": false
   },
   "outputs": [
    {
     "name": "stdout",
     "output_type": "stream",
     "text": [
      "Number of passengers by the field SStatus\n",
      "child      71\n",
      "female    280\n",
      "male      540\n",
      "Name: PassengerId, dtype: int64\n"
     ]
    }
   ],
   "source": [
    "# Checking the exact numbers by sex\n",
    "print \"Number of passengers by the field {}\".format((titanic_df.groupby('SStatus'))['PassengerId'].count())"
   ]
  },
  {
   "cell_type": "markdown",
   "metadata": {},
   "source": [
    "Now let's calculate simple survival statistics for men / women / children, and plot a graph."
   ]
  },
  {
   "cell_type": "code",
   "execution_count": 374,
   "metadata": {
    "collapsed": false
   },
   "outputs": [
    {
     "name": "stdout",
     "output_type": "stream",
     "text": [
      "Survivors - men, women and children (%) \n",
      " SStatus\n",
      "child     12.280702\n",
      "female    61.988304\n",
      "male      25.730994\n",
      "Name: Survived, dtype: float64\n"
     ]
    },
    {
     "data": {
      "image/png": "[encoded data removed]",
      "text/plain": [
       "<matplotlib.figure.Figure at 0x4da75a58>"
      ]
     },
     "metadata": {},
     "output_type": "display_data"
    }
   ],
   "source": [
    "# Calculating the total number of survivors and % of survivors by the passenger type\n",
    "titanic_df_survived = titanic_df[(titanic_df.Survived == 1)]\n",
    "total_survived = titanic_df_survived['PassengerId'].count()\n",
    "survived_percentage = ((titanic_df_survived.groupby('SStatus').count())['Survived']/total_survived)*100\n",
    "\n",
    "print \"Survivors - men, women and children (%) \\n {}\".format(survived_percentage)\n",
    "\n",
    "# Plotting \n",
    "factorplot_draw('SStatus', titanic_df, 'bar', 'Survivors by sex','Mean for survivors (prop)','Sex', palette_by_sex, 'Survived')"
   ]
  },
  {
   "cell_type": "markdown",
   "metadata": {},
   "source": [
    "The results are in line with what I expected - the principle 'women and children first' is visually compelling. Still, let's use a proper method to derive the statistical significance of relationship between the variables. We can run a [Chi-Square Test](https://en.wikipedia.org/wiki/Chi-squared_test \"Wiki article\") to see what is going on here. \n",
    "\n",
    "God bless the creators of scipy library - there is already a function for that! However, some additional effort is required to build the crosstable sums (contingency table) of each category-relationship, which should look like this: \n",
    "\n",
    "| Survived | child | male | female |\n",
    "|----------|-------|------|--------|\n",
    "| 0        | N1    | N2   | N3     |\n",
    "| 1        | N4    | N5   | N6     |"
   ]
  },
  {
   "cell_type": "code",
   "execution_count": 375,
   "metadata": {
    "collapsed": false
   },
   "outputs": [
    {
     "name": "stdout",
     "output_type": "stream",
     "text": [
      "Contingency table \n",
      "SStatus   child  female  male\n",
      "Survived                     \n",
      "0            29      68   452\n",
      "1            42     212    88\n"
     ]
    },
    {
     "data": {
      "text/plain": [
       "(289.32556061129503,\n",
       " 1.4919448734025728e-63,\n",
       " 2L,\n",
       " array([[  43.74747475,  172.52525253,  332.72727273],\n",
       "        [  27.25252525,  107.47474747,  207.27272727]]))"
      ]
     },
     "execution_count": 375,
     "metadata": {},
     "output_type": "execute_result"
    }
   ],
   "source": [
    "#  Import the chi2_contingency function\n",
    "from scipy.stats import chi2_contingency\n",
    "\n",
    "# build the crosstable sums (contingency table) of each category-relationship\n",
    "def chi2_df(df, var1, var2):\n",
    "    sizes = df.groupby([var1, var2]).size()\n",
    "    # Unstacking moves the inner row indices to the columns\n",
    "    # This is necessary to pass a proper contingency table to the chi2_contingency function\n",
    "    ctsum = sizes.unstack(var1)\n",
    "    # Print the contingency table for information\n",
    "    print \"Contingency table \\n\", ctsum\n",
    "    # Remove any NAs to make the function universal\n",
    "    return(chi2_contingency(ctsum.fillna(0)))\n",
    "\n",
    "chi2_df(titanic_df, 'SStatus', 'Survived')"
   ]
  },
  {
   "cell_type": "markdown",
   "metadata": {},
   "source": [
    "As per the [chi2_contingency documentation](https://docs.scipy.org/doc/scipy/reference/generated/scipy.stats.chi2_contingency.html), the second returned value is the p-value of the test. The results should be interpreted in the following way: \n",
    "* P = 0: both categorical variable are dependent\n",
    "* P = 1: both variables are independent\n",
    "* P < 0.05: the relationship between the variables is significant at 95% confidence\n",
    "\n",
    "As P is much less than 0.05, we can state that gender and survivability are dependant of each other.  \n",
    "\n",
    "**Conclusion 4:** Gender and survivability are dependent (the results are statistically significant with α = 0.05). The survival rate of women and children during the Titanic crash was higher than the survival rate of men. "
   ]
  },
  {
   "cell_type": "markdown",
   "metadata": {},
   "source": [
    "**5. What was the distribution of passengers among different classes? What was the survival rate among different ticket classes? Was ticket class correlated to the survival rate?**\n",
    "\n",
    "Let's start with plotting the distribution of passengers among ticket classes: "
   ]
  },
  {
   "cell_type": "code",
   "execution_count": 382,
   "metadata": {
    "collapsed": false
   },
   "outputs": [
    {
     "data": {
      "image/png": "[encoded data removed]",
      "text/plain": [
       "<matplotlib.figure.Figure at 0x4e94a898>"
      ]
     },
     "metadata": {},
     "output_type": "display_data"
    },
    {
     "name": "stdout",
     "output_type": "stream",
     "text": [
      "Number of passengers by the field Pclass\n",
      "1    216\n",
      "2    184\n",
      "3    491\n",
      "Name: PassengerId, dtype: int64\n"
     ]
    }
   ],
   "source": [
    "# Creating a new palette\n",
    "palette_class = [\"#bde3ae\", \"#f9e6be\", \"#bed4f9\"]\n",
    "\n",
    "# Plotting sex distribution\n",
    "factorplot_draw('Pclass', titanic_df, 'count', 'Number of passengers by ticket class',\n",
    "                'Number of passengers','Ticket class', palette_class)\n",
    "\n",
    "# Numbers\n",
    "print \"Number of passengers by the field {}\".format((titanic_df.groupby('Pclass'))['PassengerId'].count())"
   ]
  },
  {
   "cell_type": "markdown",
   "metadata": {},
   "source": [
    "We can see that the difference between the 3rd and 1st / 2nd classes is significant, but the quantity of passengers in the first and second class does not differ dramatically. Is it because the price was almost the same? Let's see: "
   ]
  },
  {
   "cell_type": "code",
   "execution_count": 377,
   "metadata": {
    "collapsed": false
   },
   "outputs": [
    {
     "data": {
      "text/plain": [
       "(-25.616460000000004, 180)"
      ]
     },
     "execution_count": 377,
     "metadata": {},
     "output_type": "execute_result"
    },
    {
     "data": {
      "image/png": "[encoded data removed]",
      "text/plain": [
       "<matplotlib.figure.Figure at 0x4eadcda0>"
      ]
     },
     "metadata": {},
     "output_type": "display_data"
    }
   ],
   "source": [
    "# Boxplot for ticket prices\n",
    "sns.boxplot(x=\"Pclass\", y=\"Fare\", data=titanic_df)\n",
    "plt.title(\"Distribution of ticket prices by ticket class\\n\")\n",
    "# Minor axis visualisation corrections so the graph looks better\n",
    "pylab.ylim(ymax=180)"
   ]
  },
  {
   "cell_type": "markdown",
   "metadata": {},
   "source": [
    "Apparently, the differences in prices were quite significant. The distribution of passengers among ticket classes is a little bit unexpected, but data is data. "
   ]
  },
  {
   "cell_type": "markdown",
   "metadata": {},
   "source": [
    "Let's move to the second question now. While the dependence between sex and survivability is really intuitive, it is hard to guess whether the dependence is in place for the ticket class. Let's take a look at a few graphs: "
   ]
  },
  {
   "cell_type": "code",
   "execution_count": 378,
   "metadata": {
    "collapsed": false
   },
   "outputs": [
    {
     "data": {
      "image/png": "[encoded data removed]",
      "text/plain": [
       "<matplotlib.figure.Figure at 0x4ea469b0>"
      ]
     },
     "metadata": {},
     "output_type": "display_data"
    },
    {
     "data": {
      "text/plain": [
       "<matplotlib.text.Text at 0x4f1a0f60>"
      ]
     },
     "execution_count": 378,
     "metadata": {},
     "output_type": "execute_result"
    },
    {
     "data": {
      "image/png": "[encoded data removed]",
      "text/plain": [
       "<matplotlib.figure.Figure at 0x4c2e8940>"
      ]
     },
     "metadata": {},
     "output_type": "display_data"
    }
   ],
   "source": [
    "# Plotting a factorplot - proportion of survivors among various classes\n",
    "factorplot_draw('Pclass', titanic_df, 'bar', 'Survivors by ticket class','Mean for survivors (prop)',\n",
    "                'Ticket class', palette_class, 'Survived')\n",
    "\n",
    "# Plotting a pie - ticket classes split between all the survivors \n",
    "survived_by_class = titanic_df_survived.groupby('Pclass')\n",
    "z = survived_by_class.sum()['Survived']/total_survived\n",
    "labels = '1st', '2nd', '3rd' \n",
    "explode = (0.1, 0, 0)  # explode the 1st slice\n",
    "plt.pie(z, explode=explode, labels=labels, colors=palette_class, autopct='%1.1f%%', startangle=90)\n",
    "plt.axis('equal') # making the pie chart flat\n",
    "plt.title(\"Survivors by ticket class\")"
   ]
  },
  {
   "cell_type": "markdown",
   "metadata": {
    "collapsed": true
   },
   "source": [
    "The results above represent two different angles: \n",
    "* Mean for the field 'survived' (proportion of survived) in the subsets for different ticket classes\n",
    "* Distribution of ticket classes among all the survivors\n",
    "\n",
    "From the visuals, it looks that 1st class passengers survived better, but was this because of the ticket class? Looking at the visuals, the correlation is not that clear for the 2nd and 3rd class. Let's run a proper Chi-Square Test for the variables 'Pclass' and 'Survived': "
   ]
  },
  {
   "cell_type": "code",
   "execution_count": 379,
   "metadata": {
    "collapsed": false
   },
   "outputs": [
    {
     "name": "stdout",
     "output_type": "stream",
     "text": [
      "Contingency table \n",
      "Pclass      1   2    3\n",
      "Survived              \n",
      "0          80  97  372\n",
      "1         136  87  119\n"
     ]
    },
    {
     "data": {
      "text/plain": [
       "(102.88898875696056,\n",
       " 4.5492517112987927e-23,\n",
       " 2L,\n",
       " array([[ 133.09090909,  113.37373737,  302.53535354],\n",
       "        [  82.90909091,   70.62626263,  188.46464646]]))"
      ]
     },
     "execution_count": 379,
     "metadata": {},
     "output_type": "execute_result"
    }
   ],
   "source": [
    "chi2_df(titanic_df, 'Pclass', 'Survived')"
   ]
  },
  {
   "cell_type": "markdown",
   "metadata": {},
   "source": [
    "The p-value is almost zero again - therefore, ticket class and survival are dependent. All right, but now I am thinking - could this be because the proportion of women and children was actually higher in the first class? Let's see: "
   ]
  },
  {
   "cell_type": "code",
   "execution_count": 380,
   "metadata": {
    "collapsed": false,
    "scrolled": false
   },
   "outputs": [
    {
     "data": {
      "image/png": "[encoded data removed]",
      "text/plain": [
       "<matplotlib.figure.Figure at 0x4e015390>"
      ]
     },
     "metadata": {},
     "output_type": "display_data"
    }
   ],
   "source": [
    "# Plotting split on ticket classes\n",
    "factorplot_draw('Pclass', titanic_df, 'count', 'Passengers split by ticket class and status', \n",
    "                'Number of passengers', 'Ticket class', palette_by_sex, None, None, 'SStatus')"
   ]
  },
  {
   "cell_type": "markdown",
   "metadata": {},
   "source": [
    "Now let's draw a similar plot for survivors only and view by sex and ticket class: "
   ]
  },
  {
   "cell_type": "code",
   "execution_count": 381,
   "metadata": {
    "collapsed": false
   },
   "outputs": [
    {
     "data": {
      "image/png": "[encoded data removed]",
      "text/plain": [
       "<matplotlib.figure.Figure at 0x4ee4d860>"
      ]
     },
     "metadata": {},
     "output_type": "display_data"
    }
   ],
   "source": [
    "# Fix the palette\n",
    "palette_by_sex_v2 = [\"#e25a8d\", \"#ffeeab\", \"#002388\"]\n",
    "\n",
    "# Plot\n",
    "factorplot_draw('Pclass', titanic_df_survived, 'count', 'Survivors by ticket class and sex', \n",
    "                'Number of survivors', 'Ticket class', palette_by_sex_v2, None, None, 'SStatus')"
   ]
  },
  {
   "cell_type": "markdown",
   "metadata": {},
   "source": [
    "Looking specifically at the number of women and children in the first and the third class (total vs survivors), we can witness that the ticket class really had made a difference. Indeed, the total number of women in the third class was higher than in the first class, but it is vice versa for survivors. The same is valid for children. Seems that we should not have questioned the reliability of Chi-Square Test, but it is always good to check for lurking variables and false assumptions. "
   ]
  },
  {
   "cell_type": "markdown",
   "metadata": {},
   "source": [
    "**Conclusion 5:** Ticket class and survivability are dependent (the results are statistically significant with α = 0.05). The survival rate of the first class passengers during the Titanic crash was higher than the survival rate of the second-class passengers. Likewise, the survival rate for the second class was higher than the rate for the third. "
   ]
  },
  {
   "cell_type": "markdown",
   "metadata": {},
   "source": [
    "### 4. Summarising conclusions"
   ]
  },
  {
   "cell_type": "markdown",
   "metadata": {},
   "source": [
    "**1. Age and sex distribution**: \n",
    "\n",
    "In the original dataset, age for not specified for 177 (19,87%) records. Missing values were filled using median age by sex, ticket class and port (embarked). This assumption, however, may be incorrect. \n",
    "\n",
    "Visualisations have shown that the distribution of the age of passengers is positively skewed, and the majority of the passengers were between the age of 20 and 36. For men's age, median and maximum are higher than for women - therefore, we can say that men on the ship were generally older than women.\n",
    "\n",
    "**2. Ticket prices**: \n",
    "\n",
    "We note that 15 of 891 (1.68%) records had zero fare (ticket price) which could mean that somebody embarked for free or that this data is missing. Zero values were left unchanged as their volume is low and as there could indeed be some free tickets. \n",
    "\n",
    "As shown above, the mean (average) price for a ticket was 32.2 GBP, and the distribution of ticket prices is positively skewed. The maximum price for a ticket was 512.33 GBP. The current equivalent of these prices is 3478.05 GBP for the mean and 55331.55 GBP for the most expensive ticket. This equivalent was calculated using inflation data taken from [inflation.stephenmorley.org](http://inflation.stephenmorley.org/). \n",
    "\n",
    "**3. Passengers by port and relevant ticket prices**:\n",
    "\n",
    "In the original dataset, embarked port for not specified for 2 records, which is less than 0.3%. Missing values were filled by analysing the most frequent embarked port by sex and ticket class. This assumption may be incorrect – however, there are only 2 records and even incorrect values would not have a significant impact on our analysis. \n",
    "\n",
    "Visualisations have shown that the majority of passengers embarked in Southampton, less in Cherbourg, and the least in Queenstown. \n",
    "\n",
    "The passengers embarked at Cherbourg purchased more expensive tickets than all the passengers in average (the results are statistically significant with α = 0.05). However, we cannot conclude whether they are rich or not as we do not have enough data for this.\n",
    "\n",
    "\n",
    "**4. Gender and survivability**: \n",
    "\n",
    "The original dataset includes the ‘Sex’ field, but an additional field ‘SStatus’ was created and filled to differentiate between men / women and children. Passengers whose age was below 14 were considered as children as suggested [by the following article](http://www.20thcenturylondon.org.uk/children \"20thcenturylondon.org.uk/children\"). We note that data limitations on age, specified in the first conclusion, apply. \n",
    "\n",
    "As shown on visualisations and according to values count, the majority of the passengers on the ship were men (540 passengers). There were less women (280) and even less children (71). \n",
    "\n",
    "Graphs have demonstrated that women and children survived better than men, and the results were tested to prove the significance at 95% confidence. As the result, gender and survivability are dependent (the results are statistically significant with α = 0.05). The survival rate of women and children during the Titanic crash was higher than the survival rate of men.\n",
    "\n",
    "\n",
    "**5. Ticket class and survivability**: \n",
    "\n",
    "As per visualisations and value counts, the majority of passengers bought third-class tickets (491 passengers). First class was slightly more popular than the second (216 vs 184). Generally, first class were more expensive than the second, and the second was more expensive than the third. However, there were some outliers in the second and third class which were as expensive as the first class tickets. \n",
    "\n",
    "Ticket class and survivability are dependent (the results are statistically significant with α = 0.05). The survival rate of the first class passengers during the Titanic crash was higher than the survival rate of the second-class passengers. Likewise, the survival rate for the second class was higher than the rate for the third, as demonstrated on visualisations and as confirmed by statistical testing above. \n",
    " \n"
   ]
  }
 ],
 "metadata": {
  "kernelspec": {
   "display_name": "Python 2",
   "language": "python",
   "name": "python2"
  },
  "language_info": {
   "codemirror_mode": {
    "name": "ipython",
    "version": 2
   },
   "file_extension": ".py",
   "mimetype": "text/x-python",
   "name": "python",
   "nbconvert_exporter": "python",
   "pygments_lexer": "ipython2",
   "version": "2.7.13"
  }
 },
 "nbformat": 4,
 "nbformat_minor": 2
}
