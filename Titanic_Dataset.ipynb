{
 "cells": [
  {
   "cell_type": "markdown",
   "metadata": {},
   "source": [
    "# Titanic dataset analysis\n",
    "\n",
    "The aim of this project is to analyse the [Kaggle Titanic dataset](https://www.kaggle.com/c/titanic/data \"Kaggle training dataset\"), which includes the following steps: \n",
    "\n",
    ["1. Defining the list of questions to be answered with data analysis.\n"](#part1),
    "2. Data wrangling (including its cleansing and adding additional fields) to allow for more convenient consumption of the data and making analysis possible.\n",
    "3. Data exploration and effective communication of the exploratory steps.\n",
    "4. Summarising conclusions."
   ]
  },
  {
   "cell_type": "markdown",
   "metadata": {},
   "source": [
    "### 1. Defining the list of questions to be answered with data analysis\n",
    "\n",
    "There are many ways to explore the data and dozens of potential questions to ask. After some brainstorming, I have come up with the following: \n",
    "1. What was the distribution of age across the passengers? Was it different between men and women?\n",
    "2. What was the distribution of ticket fares? What were the average and the most expensive tickets? How much would this average and the most expensive tickets worth now?\n",
    "3. Can we detect the port where the richest passengers embarked? How much would the median price for this subset of passengers worth now?\n",
    "4. What was the survival rate for men, women and children? Was sex correlated to survival rate? \n",
    "5. What was the survival rate among different ticket classes? Was ticket class correlated to survival rate? "
   ]
  },
  {
   "cell_type": "markdown",
   "metadata": {},
   "source": [
    "### 2. Data wrangling"
   ]
  },
  {
   "cell_type": "markdown",
   "metadata": {},
   "source": [
    "Firstly, let's import the data, as well as the libraries which will be required further. Then we will call the pandas describe function to see whether any values may require cleansing and to examine whether any modifications are required. Also, I do not really like acronims in the 'Embarked' field - we will change them to the real city names. "
   ]
  },
  {
   "cell_type": "code",
   "execution_count": 5,
   "metadata": {
    "collapsed": false
   },
   "outputs": [
    {
     "name": "stdout",
     "output_type": "stream",
     "text": [
      "Populating the interactive namespace from numpy and matplotlib\n"
     ]
    },
    {
     "data": {
      "text/html": [
       "<div>\n",
       "<table border=\"1\" class=\"dataframe\">\n",
       "  <thead>\n",
       "    <tr style=\"text-align: right;\">\n",
       "      <th></th>\n",
       "      <th>PassengerId</th>\n",
       "      <th>Survived</th>\n",
       "      <th>Pclass</th>\n",
       "      <th>Age</th>\n",
       "      <th>SibSp</th>\n",
       "      <th>Parch</th>\n",
       "      <th>Fare</th>\n",
       "    </tr>\n",
       "  </thead>\n",
       "  <tbody>\n",
       "    <tr>\n",
       "      <th>count</th>\n",
       "      <td>891.000000</td>\n",
       "      <td>891.000000</td>\n",
       "      <td>891.000000</td>\n",
       "      <td>714.000000</td>\n",
       "      <td>891.000000</td>\n",
       "      <td>891.000000</td>\n",
       "      <td>891.000000</td>\n",
       "    </tr>\n",
       "    <tr>\n",
       "      <th>mean</th>\n",
       "      <td>446.000000</td>\n",
       "      <td>0.383838</td>\n",
       "      <td>2.308642</td>\n",
       "      <td>29.699118</td>\n",
       "      <td>0.523008</td>\n",
       "      <td>0.381594</td>\n",
       "      <td>32.204208</td>\n",
       "    </tr>\n",
       "    <tr>\n",
       "      <th>std</th>\n",
       "      <td>257.353842</td>\n",
       "      <td>0.486592</td>\n",
       "      <td>0.836071</td>\n",
       "      <td>14.526497</td>\n",
       "      <td>1.102743</td>\n",
       "      <td>0.806057</td>\n",
       "      <td>49.693429</td>\n",
       "    </tr>\n",
       "    <tr>\n",
       "      <th>min</th>\n",
       "      <td>1.000000</td>\n",
       "      <td>0.000000</td>\n",
       "      <td>1.000000</td>\n",
       "      <td>0.420000</td>\n",
       "      <td>0.000000</td>\n",
       "      <td>0.000000</td>\n",
       "      <td>0.000000</td>\n",
       "    </tr>\n",
       "    <tr>\n",
       "      <th>25%</th>\n",
       "      <td>223.500000</td>\n",
       "      <td>0.000000</td>\n",
       "      <td>2.000000</td>\n",
       "      <td>20.125000</td>\n",
       "      <td>0.000000</td>\n",
       "      <td>0.000000</td>\n",
       "      <td>7.910400</td>\n",
       "    </tr>\n",
       "    <tr>\n",
       "      <th>50%</th>\n",
       "      <td>446.000000</td>\n",
       "      <td>0.000000</td>\n",
       "      <td>3.000000</td>\n",
       "      <td>28.000000</td>\n",
       "      <td>0.000000</td>\n",
       "      <td>0.000000</td>\n",
       "      <td>14.454200</td>\n",
       "    </tr>\n",
       "    <tr>\n",
       "      <th>75%</th>\n",
       "      <td>668.500000</td>\n",
       "      <td>1.000000</td>\n",
       "      <td>3.000000</td>\n",
       "      <td>38.000000</td>\n",
       "      <td>1.000000</td>\n",
       "      <td>0.000000</td>\n",
       "      <td>31.000000</td>\n",
       "    </tr>\n",
       "    <tr>\n",
       "      <th>max</th>\n",
       "      <td>891.000000</td>\n",
       "      <td>1.000000</td>\n",
       "      <td>3.000000</td>\n",
       "      <td>80.000000</td>\n",
       "      <td>8.000000</td>\n",
       "      <td>6.000000</td>\n",
       "      <td>512.329200</td>\n",
       "    </tr>\n",
       "  </tbody>\n",
       "</table>\n",
       "</div>"
      ],
      "text/plain": [
       "       PassengerId    Survived      Pclass         Age       SibSp  \\\n",
       "count   891.000000  891.000000  891.000000  714.000000  891.000000   \n",
       "mean    446.000000    0.383838    2.308642   29.699118    0.523008   \n",
       "std     257.353842    0.486592    0.836071   14.526497    1.102743   \n",
       "min       1.000000    0.000000    1.000000    0.420000    0.000000   \n",
       "25%     223.500000    0.000000    2.000000   20.125000    0.000000   \n",
       "50%     446.000000    0.000000    3.000000   28.000000    0.000000   \n",
       "75%     668.500000    1.000000    3.000000   38.000000    1.000000   \n",
       "max     891.000000    1.000000    3.000000   80.000000    8.000000   \n",
       "\n",
       "            Parch        Fare  \n",
       "count  891.000000  891.000000  \n",
       "mean     0.381594   32.204208  \n",
       "std      0.806057   49.693429  \n",
       "min      0.000000    0.000000  \n",
       "25%      0.000000    7.910400  \n",
       "50%      0.000000   14.454200  \n",
       "75%      0.000000   31.000000  \n",
       "max      6.000000  512.329200  "
      ]
     },
     "execution_count": 5,
     "metadata": {},
     "output_type": "execute_result"
    }
   ],
   "source": [
    "%pylab inline\n",
    "import matplotlib.pyplot as plt\n",
    "import numpy as np\n",
    "import pandas as pd\n",
    "import seaborn as sns\n",
    "\n",
    "titanic_df = pd.read_csv('titanic-data.csv')\n",
    "\n",
    "# Function to convert acronyms to the city names \n",
    "def convert_city(record):\n",
    "    if record == \"S\": \n",
    "        return \"Southampton\"\n",
    "    if record == \"C\": \n",
    "        return \"Cherbourg\" \n",
    "    if record == \"Q\": \n",
    "        return \"Queenstown\" \n",
    "\n",
    "# Run the finction\n",
    "titanic_df['Embarked'] = titanic_df['Embarked'].apply(convert_city)\n",
    "# Show the dataset info\n",
    "titanic_df.describe()"
   ]
  },
  {
   "cell_type": "markdown",
   "metadata": {},
   "source": [
    "The mininum age of 0.42 seems suspicious - did they allow infants to embark back then? According to a [Theguardian article](https://www.theguardian.com/world/2009/jun/01/last-titanic-survivor-dies \"The guardian article\") about one of Titanic survivors, \"as a two-month-old baby, Dean was the youngest passenger on board\", and 2 months is 0.17 years - so, the suspicion is groundless. \n",
    "\n",
    "'Fare' field has zero (0.0) values, which means either that somebody embarked for free or that this data is missing. Let's see how many of records with zero fares are present in the dataset. "
   ]
  },
  {
   "cell_type": "code",
   "execution_count": 2,
   "metadata": {
    "collapsed": false
   },
   "outputs": [
    {
     "name": "stdout",
     "output_type": "stream",
     "text": [
      "The number of zero-fare passengers: 15\n"
     ]
    }
   ],
   "source": [
    "# Getting a subset of rows of the dataframe where 'Fare' field equals zero and counting the number of elements. \n",
    "# Other fields may be empty so we count by the same 'Fare' field:  \n",
    "\n",
    "zerofare = titanic_df[(titanic_df['Fare'] == 0.0)]['Fare'].count()\n",
    "print 'The number of zero-fare passengers: {}'.format(zerofare)"
   ]
  },
  {
   "cell_type": "markdown",
   "metadata": {},
   "source": [
    "To understand whether this has a significant impact on the data quality, we need to check the overall number of records. Let's run the info() function on our dataframe. This will also allow us examine whether some values are not filled in (have NaN as a value). "
   ]
  },
  {
   "cell_type": "code",
   "execution_count": 3,
   "metadata": {
    "collapsed": false,
    "scrolled": true
   },
   "outputs": [
    {
     "data": {
      "text/plain": [
       "PassengerId    891\n",
       "Survived       891\n",
       "Pclass         891\n",
       "Name           891\n",
       "Sex            891\n",
       "Age            714\n",
       "SibSp          891\n",
       "Parch          891\n",
       "Ticket         891\n",
       "Fare           891\n",
       "Cabin          204\n",
       "Embarked       889\n",
       "dtype: int64"
      ]
     },
     "execution_count": 3,
     "metadata": {},
     "output_type": "execute_result"
    }
   ],
   "source": [
    "titanic_df.count()"
   ]
  },
  {
   "cell_type": "markdown",
   "metadata": {},
   "source": [
    "The total number of records is 891, so we can see that values are not complete for the fields 'Age', 'Cabin', and 'Embarked' (<small>why use a calculator when we could code, right?</small>): "
   ]
  },
  {
   "cell_type": "code",
   "execution_count": 6,
   "metadata": {
    "collapsed": false
   },
   "outputs": [
    {
     "name": "stdout",
     "output_type": "stream",
     "text": [
      "\"Age\" not entered for 177 records (19.87%)\n",
      "\"Cabin\" not entered for 687 records (77.10%)\n",
      "\"Embarked\" not entered for 2 records (0.22%)\n"
     ]
    }
   ],
   "source": [
    "# Get the number of non-filled (NaN) records using pandas isnull function \n",
    "# And calculating the number of true values in the resulting numpy array\n",
    "\n",
    "total_records = titanic_df['PassengerId'].count()\n",
    "\n",
    "no_age = numpy.sum(pd.isnull(titanic_df['Age']))\n",
    "no_cabin = numpy.sum(pd.isnull(titanic_df['Cabin']))\n",
    "no_embarked = numpy.sum(pd.isnull(titanic_df['Embarked']))\n",
    "\n",
    "print '\\\"Age\\\" not entered for {} records ({:.2%})'.format(no_age, (float(no_age)/total_records))\n",
    "print '\\\"Cabin\\\" not entered for {} records ({:.2%})'.format(no_cabin, (float(no_cabin)/total_records))\n",
    "print '\\\"Embarked\\\" not entered for {} records ({:.2%})'.format(no_embarked, (float(no_embarked)/total_records))"
   ]
  },
  {
   "cell_type": "markdown",
   "metadata": {},
   "source": [
    "Considering the results, we should: \n",
    "* not be analysing our dataset by cabin as a lot of values are missing\n",
    "* acknowledge that our age data is incomplete\n",
    "\n",
    "We should also note that several of our questions requires data on whether a passenger is a child or not, and this is not explicitly included in the dataset. Let's investigate what 'a child' means in terms of age according to 1900s and write a function to enrich our dataset with new values. An online resource 20thcenturylondon.org.uk [is indicating](http://www.20thcenturylondon.org.uk/children \"20thcenturylondon.org.uk/children\") the following: \n",
    "> The 1908 Children's Charter enshrined childhood to the age of 14\n",
    "\n",
    "Therefore, let's create a function to classify passengers using this threshold and apply it to the dataframe. As we will need to analyse the data from the view men / women / children, it would be handy to create a new field and populate it with one of these three values. \n",
    "\n",
    "Also, remembering that age is not filled for some values, we will create a 'clean' dataframe where entries with NaN in Age are removed. We will use it for further analysis by age. "
   ]
  },
  {
   "cell_type": "code",
   "execution_count": 8,
   "metadata": {
    "collapsed": false
   },
   "outputs": [
    {
     "data": {
      "text/html": [
       "<div>\n",
       "<table border=\"1\" class=\"dataframe\">\n",
       "  <thead>\n",
       "    <tr style=\"text-align: right;\">\n",
       "      <th></th>\n",
       "      <th>PassengerId</th>\n",
       "      <th>Survived</th>\n",
       "      <th>Pclass</th>\n",
       "      <th>Name</th>\n",
       "      <th>Sex</th>\n",
       "      <th>Age</th>\n",
       "      <th>SibSp</th>\n",
       "      <th>Parch</th>\n",
       "      <th>Ticket</th>\n",
       "      <th>Fare</th>\n",
       "      <th>Cabin</th>\n",
       "      <th>Embarked</th>\n",
       "      <th>SStatus</th>\n",
       "    </tr>\n",
       "  </thead>\n",
       "  <tbody>\n",
       "    <tr>\n",
       "      <th>0</th>\n",
       "      <td>1</td>\n",
       "      <td>0</td>\n",
       "      <td>3</td>\n",
       "      <td>Braund, Mr. Owen Harris</td>\n",
       "      <td>male</td>\n",
       "      <td>22.0</td>\n",
       "      <td>1</td>\n",
       "      <td>0</td>\n",
       "      <td>A/5 21171</td>\n",
       "      <td>7.2500</td>\n",
       "      <td>NaN</td>\n",
       "      <td>Southampton</td>\n",
       "      <td>male</td>\n",
       "    </tr>\n",
       "    <tr>\n",
       "      <th>1</th>\n",
       "      <td>2</td>\n",
       "      <td>1</td>\n",
       "      <td>1</td>\n",
       "      <td>Cumings, Mrs. John Bradley (Florence Briggs Th...</td>\n",
       "      <td>female</td>\n",
       "      <td>38.0</td>\n",
       "      <td>1</td>\n",
       "      <td>0</td>\n",
       "      <td>PC 17599</td>\n",
       "      <td>71.2833</td>\n",
       "      <td>C85</td>\n",
       "      <td>Cherbourg</td>\n",
       "      <td>female</td>\n",
       "    </tr>\n",
       "    <tr>\n",
       "      <th>2</th>\n",
       "      <td>3</td>\n",
       "      <td>1</td>\n",
       "      <td>3</td>\n",
       "      <td>Heikkinen, Miss. Laina</td>\n",
       "      <td>female</td>\n",
       "      <td>26.0</td>\n",
       "      <td>0</td>\n",
       "      <td>0</td>\n",
       "      <td>STON/O2. 3101282</td>\n",
       "      <td>7.9250</td>\n",
       "      <td>NaN</td>\n",
       "      <td>Southampton</td>\n",
       "      <td>female</td>\n",
       "    </tr>\n",
       "    <tr>\n",
       "      <th>3</th>\n",
       "      <td>4</td>\n",
       "      <td>1</td>\n",
       "      <td>1</td>\n",
       "      <td>Futrelle, Mrs. Jacques Heath (Lily May Peel)</td>\n",
       "      <td>female</td>\n",
       "      <td>35.0</td>\n",
       "      <td>1</td>\n",
       "      <td>0</td>\n",
       "      <td>113803</td>\n",
       "      <td>53.1000</td>\n",
       "      <td>C123</td>\n",
       "      <td>Southampton</td>\n",
       "      <td>female</td>\n",
       "    </tr>\n",
       "    <tr>\n",
       "      <th>4</th>\n",
       "      <td>5</td>\n",
       "      <td>0</td>\n",
       "      <td>3</td>\n",
       "      <td>Allen, Mr. William Henry</td>\n",
       "      <td>male</td>\n",
       "      <td>35.0</td>\n",
       "      <td>0</td>\n",
       "      <td>0</td>\n",
       "      <td>373450</td>\n",
       "      <td>8.0500</td>\n",
       "      <td>NaN</td>\n",
       "      <td>Southampton</td>\n",
       "      <td>male</td>\n",
       "    </tr>\n",
       "  </tbody>\n",
       "</table>\n",
       "</div>"
      ],
      "text/plain": [
       "   PassengerId  Survived  Pclass  \\\n",
       "0            1         0       3   \n",
       "1            2         1       1   \n",
       "2            3         1       3   \n",
       "3            4         1       1   \n",
       "4            5         0       3   \n",
       "\n",
       "                                                Name     Sex   Age  SibSp  \\\n",
       "0                            Braund, Mr. Owen Harris    male  22.0      1   \n",
       "1  Cumings, Mrs. John Bradley (Florence Briggs Th...  female  38.0      1   \n",
       "2                             Heikkinen, Miss. Laina  female  26.0      0   \n",
       "3       Futrelle, Mrs. Jacques Heath (Lily May Peel)  female  35.0      1   \n",
       "4                           Allen, Mr. William Henry    male  35.0      0   \n",
       "\n",
       "   Parch            Ticket     Fare Cabin     Embarked SStatus  \n",
       "0      0         A/5 21171   7.2500   NaN  Southampton    male  \n",
       "1      0          PC 17599  71.2833   C85    Cherbourg  female  \n",
       "2      0  STON/O2. 3101282   7.9250   NaN  Southampton  female  \n",
       "3      0            113803  53.1000  C123  Southampton  female  \n",
       "4      0            373450   8.0500   NaN  Southampton    male  "
      ]
     },
     "execution_count": 8,
     "metadata": {},
     "output_type": "execute_result"
    }
   ],
   "source": [
    "# Function to check the age and classify as a child or an adult (male / female) \n",
    "def is_child(record):\n",
    "    age = record['Age']\n",
    "    sex = record['Sex']\n",
    "    if age < 14:\n",
    "        return 'child'\n",
    "    else:\n",
    "        return sex\n",
    "    \n",
    "# As the function returns a series, we need to apply it to the original dataframe\n",
    "# Axis = 1 as the function should be applied to columns\n",
    "titanic_df['SStatus'] = titanic_df[['Age', 'Sex']].apply(is_child, axis=1)\n",
    "\n",
    "# Creating a new dataframe with records with filled 'Age' only\n",
    "titanic_df_clean_ages = titanic_df[np.isfinite(titanic_df['Age'])]\n",
    "titanic_df_clean_ages.head()"
   ]
  },
  {
   "cell_type": "markdown",
   "metadata": {},
   "source": [
    "All right, now we are ready to move to the next step (data exploration and communication)."
   ]
  },
  {
   "cell_type": "markdown",
   "metadata": {},
   "source": [
    "### 3. Data exploration and communication"
   ]
  },
  {
   "cell_type": "markdown",
   "metadata": {},
   "source": [
    "Now let's revisit the questions which we defined in the beginning.\n",
    "\n",
    "**1. What was the distribution of age across the passengers? Was it different between men and women?**\n",
    "\n",
    "Minding that the maximum age is 80 (as we saw previously), we will create a histogram with 80 bins and show the mean. "
   ]
  },
  {
   "cell_type": "code",
   "execution_count": 9,
   "metadata": {
    "collapsed": false
   },
   "outputs": [
    {
     "data": {
      "text/plain": [
       "(0, 80)"
      ]
     },
     "execution_count": 9,
     "metadata": {},
     "output_type": "execute_result"
    },
    {
     "data": {
      "image/png": "iVBORw0KGgoAAAANSUhEUgAAAXUAAAERCAYAAACEmDeEAAAABHNCSVQICAgIfAhkiAAAAAlwSFlz\nAAALEgAACxIB0t1+/AAAIABJREFUeJzt3XtYVHX+B/D34SLXkCy39ZFHf2jgDbWEYMlAKQ1p5UFd\nrximmCFRRqaBhInBoqiZimuQubWrJeuS+rjuViJmKCArsynIqtU+aHLJayoXYYD5/v7wYcILMIwc\nzszh/frLuZxzPnPmzHu+HD/zPZIQQoCIiFTBQukCiIio8zDUiYhUhKFORKQiDHUiIhVhqBMRqQhD\nnYhIRRjqbSgrK8OQIUMQEhKCkJAQBAcHY8qUKdi7d6/+ORs3brzj9v1s3rwZBw8evO9jLZcfNGgQ\nrl271qEai4qK8O677wIAiouLsWjRog4tb4ympiZERkYiMDAQO3bskH175mLRokX6Y2XQoEEIDg5G\nSEgIwsLCcPHiRcycORMAcOHCBbz++usPtK0FCxbgxx9/7IyySW0EterChQviiSeeuOO+srIyMW7c\nOPHVV18ZvJ4XX3xRfPnll+0+z93dXVy9erVDNX7xxRfilVde6dAyD6q8vFx4eHiIxsbGLt2uOWnr\nvTx27Jj4/e9/38UVUXdhpfSXirnp27cvFi1ahG3btiEwMBCxsbFwc3PD/PnzsWnTJmRlZcHa2hoP\nP/wwVq1ahaysLJw6dQpr1qyBpaUlsrOzcf36dVy4cAFjx47F1atX9csDwIYNG1BcXAydTofo6GgE\nBARg9+7d+Prrr5Geng4A+tsJCQnYtGkTqqqqsGzZMkyaNAmJiYnYv38/qqqqsHLlSpw5cwaSJMHP\nzw+LFy+GlZUVhg8fjldeeQW5ubm4dOkS5syZg7lz597zWgsLC7FmzRrcunUL1tbWiI6OxqhRo/Dy\nyy+jsbERU6ZMQWpqKvr166dfprS0FO+99x5qa2tx6dIlDB48GBs2bICNjQ2+/fZbrFu3DhYWFhgy\nZAjy8vLw+eefw8XFBX//+9+xc+dO6HQ6ODs7Y/ny5Rg4cOAd9eh0OiQnJ+PkyZOoqamBEAJJSUnw\n9PREbGwsbGxsUFxcjCtXriAoKAi9evXCN998g8uXLyMpKQm+vr5G7ZempiasWbMGhw4dwkMPPYQR\nI0bgf//7H7Zv327wcVNWVobg4GAUFhYiPj4eFy9exPz587Ft2zakpaXh4MGDqK+vx61btxATE4Px\n48cjNTUV5eXluHz5MsrLy9GrVy988MEHeOyxx/Dss89i48aNGD58ODIzM/HJJ5/AwsICDz/8MFJS\nUtCnT587tv/ss89i3LhxKCwsRFVVFebNm4fQ0NA292lhYSFWr14NnU4HAIiIiEBgYGCr92u1Wqxb\ntw7Hjx9HU1MThg4divj4eDg6OuLZZ5/F5MmTkZ+fj8rKSgQFBeHtt98GAHz00UfIzMyEg4MDvLy8\nkJ2djUOHDrW7vhEjRuDs2bNYvHgxLl++jIyMDFhbW8PGxgbvvfceHn/8cYPfH1VR+lvFlN1vpC6E\nEN9//70YOXKkEEKImJgY8fHHH4uKigoxatQoUV9fL4QQYtu2bSIrK0sIcedIPSYmRrz00kv6dTUv\nL8Tt0V16eroQQoizZ88Kb29vcfXq1XtG4y1vt/x3yxHg22+/LRITE4VOpxP19fUiPDxcv253d3ex\nfft2IYQQxcXFwsPDQ9TV1d3xGq9duyZ8fX3FiRMn9K/Z29tb/PTTT63uFyGEWL16tdi7d68QQgit\nVismTpwovvrqK3Ht2jXh7e0tTp8+LYQQYvfu3cLd3V1cuHBBFBQUiNDQUFFbWyuEEOLIkSMiKCjo\nnnX/5z//Ea+//rpoamoSQgiRnp4uIiIi9Ptx2rRpQqvVikuXLgl3d3fx17/+VQghxKeffirmzZtn\n9H7ZuXOnmD17tqirq9Mv8+KLL9739Te7e6Tecp+1fJ/KyspEWFiYuHXrlhBCiP3794uJEycKIYTY\ntGmTeO6550RVVZUQQoiIiAixceNGIYQQAQEBoqioSJw+fVr4+PiIiooKIYQQn3zyiVi+fPk99QQE\nBIjly5cLnU4nKisrhY+Pjzhz5kyb+3TOnDli//79QgghTp8+LRISEtq8PzU1VaxevVrodDohhBDv\nv/++WLFihX77q1evFkII8fPPP4vhw4eLn376SeTk5IjAwEBx48YNodPpxLJly0RAQIBB69u8ebMQ\nQojGxkYxbNgwcfHiRSGEEHv27BEZGRltvj9qxpG6ESRJgq2t7R33PfbYYxg8eDAmT54Mf39/+Pv7\nw9fX977Le3p6trruWbNmAQDc3d0xcOBAfPfdd0bVmJOTg507d0KSJPTo0QMzZ87EX/7yF7zyyisA\ngOeeew4AMGzYMGi1WtTW1sLGxka/fFFREfr164eRI0cCANzc3DBq1Cj8+9//ho+PT6vbXbp0KXJz\nc7F161acO3cOly5dQm1tLQoLCzFw4EAMHjwYADB58mQkJSUBAA4fPozz58/rzzkDwI0bN3D9+nU4\nOzvr73vyySfRs2dPZGRk4MKFCygoKICDg4P+8YCAAFhbW6N3796wt7eHn58fAKBfv364fv260fvl\n22+/RUhIiH7/zJgxo0Oj9Lb07dsXKSkp+Mc//oHz58/rR8zNvL294ejoCAAYOnQobty4ccfy+fn5\neOaZZ/Qj8/v9xdUsNDQUkiTht7/9Lfz8/JCbm4vw8PBW92lQUBDee+89HDp0CE8//TQWL17c5v2H\nDx9GVVUV8vLyAAANDQ145JFH9Ntv3rePPfYYHnnkEdy4cQPffvstJkyYACcnJwDA7NmzcezYMYPW\n5+XlBQCwtLTEhAkTMHPmTIwdOxajR49GcHCwwe+B2jDUjVBcXAx3d/c77rOwsMCOHTtQXFyM/Px8\nJCcnw8fHB/Hx8fcsb29v3+q6LSx+/b9rIQSsrKwgSRJEiyl6Ghoa2q2x+U/jlrcbGxv1t5sDSpIk\n/bbaWr75OS3XcT+LFy9GU1MTgoKCMHbsWFRWVkIIAUtLy3u20fxadTodQkJCsHTpUv3tS5cuoWfP\nnnc8//Dhw/jjH/+IefPm4bnnnsOAAQOwb98+/eM9evS44/lWVvce3sbsl7vX0/I9elAlJSV49dVX\nMXfuXIwePRpPPfUUVq5cqX+85eDh7uMAuB1ozbUCQF1dHcrLy+85dQXcuT90Oh0sLCza3KczZ85E\nQEAAcnNzceTIEWzevBn79u1r9X6dToe4uDiMGTMGAFBTU4P6+nr9NlsOGppfi5WV1R2vydLS8o4a\n21pfy8/RunXr8P333yMvLw9bt25FZmYmPvzww1b3u5qx+6WDSktLsWXLFoSHh99x/5kzZzBx4kQM\nHDgQERERmDt3Ls6ePQvg9oHaXhg227NnD4DbH/bz589j5MiR6NWrF3744QfU19ejsbER33zzjf75\nra37mWeewWeffQYhBLRaLXbt2oWnn37a4Nc5cuRIlJaWoqioCADwww8/4Pjx4/D29m5zuaNHjyIq\nKgovvPACJEnCyZMn0dTUhFGjRuHcuXM4c+YMAODrr7/GzZs3IUkSRo8ejX/+85+4dOkSAGDnzp14\n6aWX7ll3bm4uAgICEBoaiuHDh+PgwYNoamoy+DUBxu2XMWPGYN++fdBqtWhsbNS/R8aytLTUfzEf\nP34cHh4emDdvHry9vZGdnd2h1+Tj44P8/Hz9vsvIyMDatWvv+9zmLquKigrk5ubC39+/zX06c+ZM\nnD59GlOmTEFiYiJu3ryJGzdutHp/877VarXQ6XRYvnw51q9f32b9Y8aMwYEDB1BVVQUAyMzM1D9m\n6PquXbuGMWPGwNnZGXPnzkV0dLT+s9cdcaTejrq6OoSEhAC4PUKzsbHB4sWLMXbs2DueN3jwYAQF\nBeEPf/gD7O3tYWtrqx+lBwQEICUlxaAR9oULFzBp0iRIkoT169fD2dlZP4ILCgpC79694ePjoz9o\nn3zySWzYsAFRUVGYM2eOfj3x8fFISkpCcHAwGhoa4Ofnh4ULFxr8unv16oWNGzciMTERdXV1kCQJ\nq1atgqurK8rKylpd7s0330RUVBR69uwJOzs7PPXUU/jpp5/g7OyM9evXIyYmBhYWFvDw8ICVlRXs\n7Ozg5+eHBQsWIDw8HJIkwdHREZs3b75jBArcDpklS5YgODgYlpaW8PLywoEDB+77V0VrjNkvU6ZM\nQWlpKSZNmgR7e3u4uLjAzs7O4G3ezc3NDZaWlpg6dSrS0tJw4MABvPDCC7C2toavry9u3LiB6upq\ng9Y1aNAgLF26FC+//DIAoHfv3khOTr7vc8vKyjBlyhTU1dUhPj4eAwYMaHOfLlmyBMnJydiwYQMs\nLCzw2muvwcXFpdX7X331VaSkpGDy5MloamrCkCFDEBsb22b9vr6+mD59OmbMmAFbW1u4ubnp962h\n6+vVqxciIyMxd+5c2NrawtLSUn9qrzuSxN1/zxHJoLq6Glu2bMHrr78OOzs7lJSUICIiAkeOHLkn\nvE3N0aNHcfXqVf2Xe1JSEmxsbPSni8xBy24ZU1JcXIzvvvtOPyD55JNPcPLkSWzYsEHhyswXR+rU\nJRwdHWFtbY2pU6fCysoKVlZW2LBhg8kHOnB7ZL1t2zZs27YNTU1NGDx4MBISEpQuSxVcXV2xdetW\n7Nq1C5IkoU+fPkhMTFS6LLPGkToRkYrwP0qJiFSEoU5EpCIMdSIiFWGoExGpCEOdiEhFGOpERCrC\nUCciUhGGOhGRijDUiYhUhKFORKQiDHUiIhVhqBMRqQhDnYhIRRjqREQq0iXzqWs0mq7YDBGR6rR1\nofr76bKLZHS0MCVoNBrW2UkkSUJhYaHJ1wmYx/4EWGdnMocaAeMGxDz9QrJYsWKF0iUQdUsMdZIF\nL/dGpAyGOsmioqJC6RKIuiWGOsmib9++SpdA1C0x1ImIVIShTkSkIgx1IiIVYagTEakIQ51kwT51\nImV02S9KSXlPTXzxjtvH9++QbVsJCQmcHoJIARypkyzYp06kDIY6yYJ96kTKaPf0S1NTE+Lj41Fa\nWgpJkrBy5UrY2NggNjYWkiTBzc0NK1asgIUFvx+IiJTWbqh/8803AICMjAwUFBTggw8+gBAC0dHR\n8PHxwbvvvovs7GyMHz9e9mKJiKht7Q6vx40bh8TERAC3z5M6OTmhpKQE3t7eAAB/f3/k5eXJWyUR\nERnEoO4XKysrxMTEICsrC5s2bUJubi4kSQIAODg4oKqqqt11mEsnRHeqsytea3fan12BdXYec6jR\nGAa3NKakpGDJkiWYPn066uvr9ffX1NTAycmp3eXNZUL67lSnnK+1uU+9O+1PubHOzmMONQIyXSRj\n7969SE9PBwDY2dlBkiR4eHigoKAAAJCTkwMvL68Ob5jUjfOpEymj3ZH6888/j2XLlmH27NlobGxE\nXFwcBg4ciOXLl2P9+vUYMGAAAgMDu6JWMiPsUydSRruhbm9vj40bN95z/44d8v0akcxf3759UVhY\nqHQZRN0Om8uJiFSEoU5EpCIMdSIiFWGoExGpCEOdZMH51ImUwVAnWbBPnUgZDHWSBfvUiZTBUCdZ\ncD51ImUw1ImIVIShTkSkIgx1IiIVYagTEakIQ51kwT51ImUw1EkW7FMnUgZDnWTBPnUiZRh8OTsy\nfU9NfPGO28f3KzfnPedTJ1IGR+pERCrCUCciUhGGOhGRijDUiYhUhKFOsmCfOpEyGOokC/apEymD\nLY0mwpTaETsD+9SJlMGROsmC86kTKYOhTkSkIgx1IiIVafOcekNDA+Li4lBeXg6tVovIyEj06dMH\nERER+L//+z8AwKxZs/DCCy90Ra1ERNSONkN93759cHZ2xtq1a3H9+nVMmjQJUVFRmDdvHsLDw7uq\nRiIiMlCboT5hwgQEBgYCAIQQsLS0xKlTp1BaWors7Gz0798fcXFxcHR07JJiyXywT51IGZIQQrT3\npOrqakRGRmL69OnQarUYNGgQPDw88OGHH+LmzZuIiYlpc3mNRtNpBavVwhUftPl42so3O/R8Q5a5\n+3FDtLeOztgGEf3K09OzQ89vt0+9srISUVFRCA0NRXBwMG7evAknJycAwPjx45GYmChLYUrQaDQm\nW2fLugz9kmzvtXTGa21tHdq6WvSwtTfZ/dmSKb/vLbHOzmMONQLGDYjb7H65cuUKwsPDsXTpUkyd\nOhUAMH/+fBQVFQEA8vPzMWzYMCNKJbUryt6jdAlE3VKbI/W0tDTcvHkTW7ZswZYtWwAAsbGxSE5O\nhrW1NR599FGDR+pERCS/NkM9Pj4e8fHx99yfkZEhW0FERGQ8/viIiEhFOKFXN6a2ScSIiCN1kkkf\nt+FKl0DULTHUSRZ93UcoXQJRt8RQJ1lo62qVLoGoW2KokyzYp06kDIY6EZGKMNSJiFSEoU5EpCIM\ndSIiFWGokyzYp06kDIY6yYJ96kTKYKiTLNinTqQMhjrJgn3qRMpgqBMRqQhnaaQHcvdMj0psk7NL\nEv2KI3UiIhVhqBMRqQhDnWTBPnUiZTDUSRbsUydSBkOdZME+dSJlMNRJFuxTJ1IGQ52ISEUY6kRE\nKsJQJyJSkTZ/UdrQ0IC4uDiUl5dDq9UiMjISjz/+OGJjYyFJEtzc3LBixQpYWPC7gYjIFLQZ6vv2\n7YOzszPWrl2L69evY9KkSRg8eDCio6Ph4+ODd999F9nZ2Rg/fnxX1Utmgn3qRMpoc4g9YcIEvPHG\nGwAAIQQsLS1RUlICb29vAIC/vz/y8vLkr5LMDvvUiZTR5kjdwcEBAFBdXY1FixYhOjoaKSkpkCRJ\n/3hVVZVBG9JoNA9Yatcw1TqNqaujy3Tma9fW1aKHrX2X7M/O2Iapvu93Y52dxxxqNEa7szRWVlYi\nKioKoaGhCA4Oxtq1a/WP1dTUwMnJyaANeXp6Gl9lF9FoNCZbZ8u6DD0YO/paOvO1F2XvgdfvZ3fJ\n/nzQbZjy+94S6+w85lAjYNwXT5unX65cuYLw8HAsXboUU6dOBQAMHToUBQUFAICcnBx4eXkZUSoR\nEcmhzVBPS0vDzZs3sWXLFoSFhSEsLAzR0dFITU3FjBkz0NDQgMDAwK6qlYiI2tHm6Zf4+HjEx8ff\nc/+OHbwoARGRKWKDORGRijDUSRbsUydSBq9RSrJo7lPvjOuJKnEdVCJzxZE6yYLzqRMpg6FOsuB8\n6kTKYKgTEakIQ52ISEUY6kREKsJQJyJSEbY0kl5ntg621qfeGS2ORNQ6jtRJFpxPnUgZDHWSBfvU\niZTBUCdZsE+dSBkMdSIiFWGoExGpCLtfugi7Pu7vfh033DdExuNInYhIRRjqJAvOp06kDIY6yYJ9\n6kTKYKiTLNinTqQMhjrJgn3qRMpgqBMRqQhDnYhIRRjqREQqwlAnIlIRhjrJgn3qRMowKNRPnjyJ\nsLAwAMB///tf+Pn5ISwsDGFhYfjXv/4la4FkntinTqSMdud+2bp1K/bt2wc7OzsAQElJCebNm4fw\n8HDZiyPzpa2rRQ9be6XLIOp22h2p9+vXD6mpqfrbp06dwuHDhzF79mzExcWhurpa1gLJPLFPnUgZ\n7Y7UAwMDUVZWpr89YsQITJs2DR4eHvjwww/xpz/9CTExMe1uSKPRPFilXaSr6uzodoy5fmhnXnO0\nK3W07s54z3h8di5zqNMcajRGh6feHT9+PJycnPT/TkxMNGg5T0/Pjm6qy2k0mi6r0xz2h7l40H3Z\nle/7g2CdncccagSM++LpcPfL/PnzUVRUBADIz8/HsGHDOrxRIiKSR4dH6gkJCUhMTIS1tTUeffRR\ng0fqREQkP4NC3cXFBbt27QIADBs2DBkZGbIWReaPfepEyuCPj0gW7FMnUkaXXqOU1+nsPkypT53X\nQaXuhCN1kgX71ImUwVAnIlIRhjoRkYow1ImIVIShTkSkIgx1kgX71ImU0aUtjfQrc51sy1Cm3qfe\nXnst22/JXHGkTrLQ1tUqXQJRt8RQJ1mwT51IGQx1IiIVYagTEakIQ52ISEUY6kREKsKWRpJFd+tT\n50yQZCo4UidZmHqfOpFaMdRJFuxTJ1IGQ51kwT51ImUw1ImIVIShTkSkIux+IdVR+2RpRG3hSJ2I\nSEUY6iSL7tanTmQqGOokC/apEynDoFA/efIkwsLCAADnz5/HrFmzEBoaihUrVkCn08laIJkn9qkT\nKaPdUN+6dSvi4+NRX18PAFi1ahWio6Px+eefQwiB7Oxs2Ysk88M+dSJltBvq/fr1Q2pqqv52SUkJ\nvL29AQD+/v7Iy8uTrzoiIuqQdlsaAwMDUVZWpr8thIAkSQAABwcHVFVVGbQhjUZzz333az1LW/nm\nHbcXrvigzcc72/3qJNPWGe9Ze+swZhsPWtf9jn1zOT7NoU5zqNEYHe5Tt7D4dXBfU1MDJycng5bz\n9PTslOcZuh5jaDQaWddP8uiM90yO406OY8kcjk9z+ByZQ42AcV88He5+GTp0KAoKCgAAOTk58PLy\n6vBGiYhIHh0O9ZiYGKSmpmLGjBloaGhAYGCgHHWRmWOfOpEyDDr94uLigl27dgEAXF1dsWMHJ/+n\ntrFPnUgZ/PERyYJ96kTKYKiTLNinTqQMztJIZARjZoJsbxle05Q6A0fqREQqwlAnIlIRhjoRkYow\n1EkW7FMnUgZDnWTBPnUiZXTL7pe7uxDYddD5tHW16GFrr3QZBlPrdU15rHc/HKmTLNinTqQMhjoR\nkYow1ImIVIShTkSkIgx1IiIVYaiTLNinTqSMbtnSSPLryj51tbYj3u3ua5YCbFGke3GkTrLgfOpE\nymCokyzYp06kDIY6EZGKMNSJiFSEoU5EpCIMdSIiFTG5lkZzbE8zx5rlxj71juuM656yxZE4UidZ\ncD51ImUw1EkW7FMnUobRp18mT54MR0dHAICLiwtWrVrVaUWR+SvK3gOv389WugyibseoUK+vr4cQ\nAtu3b+/seoiI6AEYdfrlzJkzuHXrFsLDwzFnzhycOHGis+siIiIjGDVSt7W1xfz58zFt2jScO3cO\nCxYswFdffQUrq9ZXp9FojC5SjvW0tk451k/mrzM6U7pCe8fv3Y/fPUlY2so371nGkOd0tA5TYA41\nGsOoUHd1dUX//v0hSRJcXV3h7OyMy5cvo0+fPq0u4+npaXSRcqznfuvUaDSyrJ+oq7R3/D7o44Y8\nxxw+R+ZQI2DcF49Rp18yMzOxevVqAMDFixdRXV2N3r17G7MqUin2qRMpw6iR+tSpU7Fs2TLMmjUL\nkiQhOTm5zVMv1P2wT51IGUYlcY8ePfD+++93di2kItq6WvSwtVe6DKJuhz8+IllwPnUiZTDUiYhU\nxOxOhHd0AiNOkkQkr7s/L3e3PPLz1LU4UiciUhGGOhGRijDUSRbsUydSBkOdZME+dSJlMNRJFpxP\nnUgZDHWSBfvUiZRhdi2Nd+P1QYlMy92zOhqjK9og1dpqyZE6EZGKMNSJiFSEoU5EpCIMdZIF+9SJ\nlMFQJ1mwT51IGWbf/dIZOtpBw46b9nE+ddPU3rFryLH9oMe/Ep+f7vSZ5UidZME+dSJlMNSJiFSE\noU5EpCIMdSIiFWGoExGpCEOdZME+dSJlsKXRAN2pHaqzsE9dGWo9Vk1h8i0lJhm7+3qvhuBInWTB\n+dSJlMFQJ1mwT51IGQx1IiIVMeqcuk6nQ0JCAs6ePYsePXogKSkJ/fv37+zaiIiog4waqR88eBBa\nrRZ/+9vf8NZbb2H16tWdXRcRERnBqFDXaDTw8/MDADzxxBM4depUpxZFRETGkYQQoqMLvfPOO3j+\n+ecxZswYAMDYsWNx8OBBWFnd/2yORqN5sCqJiLopT0/PDj3fqHPqjo6OqKmp0d/W6XStBroxRRER\nkXGMOv0yatQo5OTkAABOnDgBd3f3Ti2KiIiMY9Tpl+bul++//x5CCCQnJ2PgwIFy1EdERB1gVKgT\nEZFp4o+PiIhUhKFORKQiss7SaA6/PD158iTWrVuH7du34/z584iNjYUkSXBzc8OKFStgYaHs915D\nQwPi4uJQXl4OrVaLyMhIPP744yZXZ1NTE+Lj41FaWgpJkrBy5UrY2NiYXJ0AcPXqVUyZMgV//vOf\nYWVlZZI1AsDkyZPh6OgIAHBxccHChQtNrtb09HQcOnQIDQ0NmDVrFry9vU2uxt27d2PPnttzEdXX\n1+P06dP4/PPPkZycbFJ1NjQ0IDY2FuXl5bCwsEBiYqJxx6eQ0ddffy1iYmKEEEJ89913YuHChXJu\nrsM++ugjMXHiRDFt2jQhhBARERHi2LFjQgghli9fLg4cOKBkeUIIITIzM0VSUpIQQohffvlFjBkz\nxiTrzMrKErGxsUIIIY4dOyYWLlxoknVqtVrx6quviueff178+OOPJlmjEELU1dWJkJCQO+4ztVqP\nHTsmIiIiRFNTk6iurhabNm0yuRrvlpCQIDIyMkyyzqysLLFo0SIhhBBHjx4Vr732mlF1yvrVZOq/\nPO3Xrx9SU1P1t0tKSuDt7Q0A8Pf3R15enlKl6U2YMAFvvPEGAEAIAUtLS5Osc9y4cUhMTAQAVFRU\nwMnJySTrTElJwcyZM/Gb3/wGgGm+5wBw5swZ3Lp1C+Hh4ZgzZw5OnDhhcrUePXoU7u7uiIqKwsKF\nCzF27FiTq7Gl4uJi/Pjjj5gxY4ZJ1unq6oqmpibodDpUV1fDysrKqDplPf1SXV2t//MRACwtLdHY\n2NjmD5W6UmBgIMrKyvS3hRCQJAkA4ODggKqqKqVK03NwcABwe18uWrQI0dHRSElJMbk6AcDKygox\nMTHIysrCpk2bkJuba1J17t69G7169YKfnx8++ugjAKb5ngOAra0t5s+fj2nTpuHcuXNYsGCBydX6\nyy+/oKKiAmlpaSgrK0NkZKTJ1dhSeno6oqKiAJjm+25vb4/y8nIEBQXhl19+QVpaGo4fP97hOmVN\n147+8lRpLc9V1dTUwMnJScFqflVZWYmoqCiEhoYiODgYa9eu1T9mSnUCt0fCS5YswfTp01FfX6+/\n3xTq/OKLLyBJEvLz83H69GnExMTg2rVr+sdNocZmrq6u6N+/PyRJgqurK5ydnVFSUqJ/3BRqdXZ2\nxoABA9Dzw9J/AAAB1UlEQVSjRw8MGDAANjY2+Pnnn/WPm0KNzW7evInS0lL87ne/A2Can/VPP/0U\nzzzzDN566y1UVlbipZdeQkNDg/5xQ+uU9fSLuf3ydOjQoSgoKAAA5OTkwMvLS+GKgCtXriA8PBxL\nly7F1KlTAZhmnXv37kV6ejoAwM7ODpIkwcPDw6Tq/Oyzz7Bjxw5s374dQ4YMQUpKCvz9/U2qxmaZ\nmZn62U8vXryI6upqjB492qRq9fT0xJEjRyCEwMWLF3Hr1i34+vqaVI3Njh8/Dl9fX/1tU/wMOTk5\n4aGHHgIA9OzZE42NjUbVKeuPj8zhl6dlZWVYvHgxdu3ahdLSUixfvhwNDQ0YMGAAkpKSYGlpqWh9\nSUlJ+PLLLzFgwAD9fe+88w6SkpJMqs7a2losW7YMV65cQWNjIxYsWICBAwea3P5sFhYWhoSEBFhY\nWJhkjVqtFsuWLUNFRQUkScKSJUvw8MMPm1yta9asQUFBAYQQePPNN+Hi4mJyNQLAxx9/DCsrK8yd\nOxcATPKzXlNTg7i4OFy+fBkNDQ2YM2cOPDw8Olwnf1FKRKQiptGQS0REnYKhTkSkIgx1IiIVYagT\nEakIQ52ISEUY6kREKsJQJyJSEYY6EZGK/D88k6jgMjncpQAAAABJRU5ErkJggg==\n",
      "text/plain": [
       "<matplotlib.figure.Figure at 0xb797780>"
      ]
     },
     "metadata": {},
     "output_type": "display_data"
    }
   ],
   "source": [
    "# Set a palette and a style \n",
    "sns.set_style(\"whitegrid\")\n",
    "sns.set_palette(sns.color_palette(\"Blues_d\")) \n",
    "\n",
    "titanic_df_clean_ages['Age'].hist(bins = 80)\n",
    "plt.axvline(titanic_df_clean_ages['Age'].mean(), color='black', linestyle='dashed', linewidth=1)\n",
    "plt.title(\"Distribution of age among Titanic passengers \\n\")\n",
    "# Limits the x axis\n",
    "pylab.xlim(xmin=0, xmax=80)"
   ]
  },
  {
   "cell_type": "markdown",
   "metadata": {},
   "source": [
    "To grasp more details and see the difference between men and women, it would be handy to use sns boxplots (showing medians, InterQuartile Ranges, minimums / maximums, and outliers):  "
   ]
  },
  {
   "cell_type": "code",
   "execution_count": 10,
   "metadata": {
    "collapsed": false,
    "scrolled": false
   },
   "outputs": [
    {
     "data": {
      "text/plain": [
       "<matplotlib.text.Text at 0xbf0b630>"
      ]
     },
     "execution_count": 10,
     "metadata": {},
     "output_type": "execute_result"
    },
    {
     "data": {
      "image/png": "iVBORw0KGgoAAAANSUhEUgAAAX0AAAEfCAYAAACtRRYAAAAABHNCSVQICAgIfAhkiAAAAAlwSFlz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\n6QAAAABJRU5ErkJggg==\n",
      "text/plain": [
       "<matplotlib.figure.Figure at 0xb4f5f60>"
      ]
     },
     "metadata": {},
     "output_type": "display_data"
    }
   ],
   "source": [
    "sns.boxplot(x=\"Sex\", y=\"Age\", data=titanic_df, palette=\"muted\")\n",
    "plt.title(\"Distribution of age among Titanic passengers by sex \\n\")"
   ]
  },
  {
   "cell_type": "markdown",
   "metadata": {},
   "source": [
    "**Conclusion 1**: The distribution of the age of passengers is positively skewed, and the majority of the passengers were between the age of 20 and 36. For men's age, median and maximum are higher than for women - therefore, we can say that men on the ship were generally older than women. "
   ]
  },
  {
   "cell_type": "markdown",
   "metadata": {},
   "source": [
    "**2. What was the distribution of ticket fares? What were the average and the most expensive tickets? How much would this average and the most expensive tickets worth now?**\n",
    "\n",
    "Note that we can use the titanic_df to analyse data if this analysis does not imply age. This time let's visualise the data with sns distribution plot.  "
   ]
  },
  {
   "cell_type": "code",
   "execution_count": 26,
   "metadata": {
    "collapsed": false
   },
   "outputs": [
    {
     "name": "stdout",
     "output_type": "stream",
     "text": [
      "The description of data on fares (ticket prices) in the dataset:\n"
     ]
    },
    {
     "data": {
      "text/plain": [
       "count    891.000000\n",
       "mean      32.204208\n",
       "std       49.693429\n",
       "min        0.000000\n",
       "25%        7.910400\n",
       "50%       14.454200\n",
       "75%       31.000000\n",
       "max      512.329200\n",
       "Name: Fare, dtype: float64"
      ]
     },
     "execution_count": 26,
     "metadata": {},
     "output_type": "execute_result"
    },
    {
     "data": {
      "image/png": "iVBORw0KGgoAAAANSUhEUgAAAYsAAAEfCAYAAACwF+reAAAABHNCSVQICAgIfAhkiAAAAAlwSFlz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\nQmCC\n",
      "text/plain": [
       "<matplotlib.figure.Figure at 0xbb66b38>"
      ]
     },
     "metadata": {},
     "output_type": "display_data"
    }
   ],
   "source": [
    "# Set palette and plot the data\n",
    "sns.set_palette(sns.color_palette(\"muted\")) \n",
    "sns.distplot(titanic_df['Fare'])\n",
    "plt.title(\"Fares for Titanic tickets in GBP \\n\")\n",
    "plt.ylabel('Proportion')\n",
    "# Put some more ticks \n",
    "plt.xticks(np.arange(titanic_df['Fare'].min(), titanic_df['Fare'].max()+1, 30))\n",
    "\n",
    "# Minor axis visualisation corrections so the graph looks better\n",
    "pylab.xlim(xmin=0)\n",
    "pylab.ylim(ymax=0.040)\n",
    "\n",
    "# Describe the ticket fare array \n",
    "print 'The description of data on fares (ticket prices) in the dataset:'\n",
    "titanic_df['Fare'].describe()"
   ]
  },
  {
   "cell_type": "markdown",
   "metadata": {},
   "source": [
    "The mean (average) price for a ticket was 32.2 GBP, and the distribution of ticket prices is positively skewed. The majority of tickets cost less than 90 GBP. "
   ]
  },
  {
   "cell_type": "markdown",
   "metadata": {},
   "source": [
    "To recalculate historical values into the current prices (or vice versa), we will need to get the convertion rate somewhere and write an appropriate function. *Note that Titanic left the maiden port in 1912 and crashed the same year*. By googling \"historical UK inflation rates\", one could find a number of ready-to-use calculators and tables - for example, [here](http://inflation.stephenmorley.org/). I have copied the contents of the table on this website and saved it in a csv file. Let's import it and take a look at the contents once again: "
   ]
  },
  {
   "cell_type": "code",
   "execution_count": 28,
   "metadata": {
    "collapsed": false,
    "scrolled": true
   },
   "outputs": [
    {
     "data": {
      "text/html": [
       "<div>\n",
       "<table border=\"1\" class=\"dataframe\">\n",
       "  <thead>\n",
       "    <tr style=\"text-align: right;\">\n",
       "      <th></th>\n",
       "      <th>Inflation</th>\n",
       "      <th>Multiplier</th>\n",
       "    </tr>\n",
       "    <tr>\n",
       "      <th>Year</th>\n",
       "      <th></th>\n",
       "      <th></th>\n",
       "    </tr>\n",
       "  </thead>\n",
       "  <tbody>\n",
       "    <tr>\n",
       "      <th>2017</th>\n",
       "      <td>-</td>\n",
       "      <td>1.00</td>\n",
       "    </tr>\n",
       "    <tr>\n",
       "      <th>2016</th>\n",
       "      <td>1.80%</td>\n",
       "      <td>1.02</td>\n",
       "    </tr>\n",
       "    <tr>\n",
       "      <th>2015</th>\n",
       "      <td>1.00%</td>\n",
       "      <td>1.03</td>\n",
       "    </tr>\n",
       "    <tr>\n",
       "      <th>2014</th>\n",
       "      <td>2.40%</td>\n",
       "      <td>1.05</td>\n",
       "    </tr>\n",
       "    <tr>\n",
       "      <th>2013</th>\n",
       "      <td>3.00%</td>\n",
       "      <td>1.08</td>\n",
       "    </tr>\n",
       "  </tbody>\n",
       "</table>\n",
       "</div>"
      ],
      "text/plain": [
       "     Inflation  Multiplier\n",
       "Year                      \n",
       "2017         -        1.00\n",
       "2016     1.80%        1.02\n",
       "2015     1.00%        1.03\n",
       "2014     2.40%        1.05\n",
       "2013     3.00%        1.08"
      ]
     },
     "execution_count": 28,
     "metadata": {},
     "output_type": "execute_result"
    }
   ],
   "source": [
    "# Read the file and set year as index\n",
    "infl_df = pd.read_csv('UK_inflation.csv', index_col='Year')\n",
    "infl_df.head()"
   ]
  },
  {
   "cell_type": "markdown",
   "metadata": {},
   "source": [
    "Now, what would be the appropriate method to calculate the historical values? Considering the inflation data format in the file, we can use multipliers to simplify the task and avoid using loops: "
   ]
  },
  {
   "cell_type": "markdown",
   "metadata": {},
   "source": [
    "\\begin{align}\n",
    "Value_{historical} = \\frac{Value_{current}Multiplier_{historical}}{Multiplier_{current}}\n",
    "\\end{align}"
   ]
  },
  {
   "cell_type": "code",
   "execution_count": 29,
   "metadata": {
    "collapsed": false
   },
   "outputs": [
    {
     "name": "stdout",
     "output_type": "stream",
     "text": [
      "Maximum price for titanic tickets as of now: 55331.55 GBP\n",
      "Mean price for titanic tickets as of now: 3478.05 GBP\n"
     ]
    }
   ],
   "source": [
    "# Delete the inflation column\n",
    "infl_df = infl_df.drop(\"Inflation\", axis=1)\n",
    "\n",
    "# Define a function and use it\n",
    "def curr_value(hist_y, curr_y, amount):\n",
    "    return round((amount*infl_df.loc[hist_y])/infl_df.loc[curr_y], 2)\n",
    "\n",
    "# Maximum ticket price as of now\n",
    "print 'Maximum price for titanic tickets as of now: {} GBP'.format(curr_value(1912, 2017, titanic_df['Fare'].max()))\n",
    "# Mean ticket price as of now\n",
    "print 'Mean price for titanic tickets as of now: {} GBP'.format(curr_value(1912, 2017, titanic_df['Fare'].mean()))"
   ]
  },
  {
   "cell_type": "markdown",
   "metadata": {},
   "source": [
    "**Conclusion 2**: The mean (average) price for a ticket was 32.2 GBP, and the distribution of ticket prices is positively skewed. The maximum price for a ticket was 512.33 GBP. The current equivalent of these prices is 3478.05 GBP for the mean and 55331.55 GBP (wow!) for the most expensive ticket. "
   ]
  },
  {
   "cell_type": "markdown",
   "metadata": {},
   "source": [
    "**3. Can we detect the port where the richest passengers embarked? How much would the median price for this subset of passengers worth now?**\n",
    "\n",
    "Rephrasing the first question, we actually would like to know whether the median ticket price for the passengers embarked at one of the ports is higher than of the others, and whether it is significantly different from the population of titanic passengers. We can investigate this, but this would certainly not mean that these passengers were the richest since the *ticket price is not an appropriate operational definition for wealth*, and we *do not have data to conclude on one's wealth in general*. \n",
    "\n",
    "Let's start with looking at a barplot showing the distribution of fares between embarking docks. "
   ]
  },
  {
   "cell_type": "code",
   "execution_count": 30,
   "metadata": {
    "collapsed": false
   },
   "outputs": [
    {
     "data": {
      "text/plain": [
       "<matplotlib.text.Text at 0xe6c2f28>"
      ]
     },
     "execution_count": 30,
     "metadata": {},
     "output_type": "execute_result"
    },
    {
     "data": {
      "image/png": "iVBORw0KGgoAAAANSUhEUgAAAX0AAAEfCAYAAACtRRYAAAAABHNCSVQICAgIfAhkiAAAAAlwSFlz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\n",
      "text/plain": [
       "<matplotlib.figure.Figure at 0xb61e320>"
      ]
     },
     "metadata": {},
     "output_type": "display_data"
    }
   ],
   "source": [
    "# Plotting ticket fares \n",
    "sns.barplot(x=\"Embarked\", y=\"Fare\", data=titanic_df)\n",
    "plt.title(\"Mean ticket fare by embarking point \\n\")\n",
    "plt.ylabel('Mean ticket fare') \n",
    "plt.xlabel('Port')"
   ]
  },
  {
   "cell_type": "markdown",
   "metadata": {},
   "source": [
    "Cherbourg seems to be leading - indeed, I would assume that European upper crust embarked in France (Cherbourg). However, we need to state a null hypothesis and test it properly before making a conclusion. We will be using one-tail test as we are looking at one direction only. "
   ]
  },
  {
   "cell_type": "markdown",
   "metadata": {},
   "source": [
    "\\begin{align}\n",
    "H_{0}: \\mu_{Cherbourg} = \\mu_{I} \\\\\n",
    "H_{1}: \\mu_{Cherbourg} > \\mu_{I}\n",
    "\\end{align}"
   ]
  },
  {
   "cell_type": "markdown",
   "metadata": {},
   "source": [
    "We will run [t-test](https://en.wikipedia.org/wiki/Student%27s_t-test \"Wiki article\") to test the hypothesis - for this, it would be handy to use scipy.stats function called ttest_ind.  "
   ]
  },
  {
   "cell_type": "code",
   "execution_count": 68,
   "metadata": {
    "collapsed": false
   },
   "outputs": [
    {
     "name": "stdout",
     "output_type": "stream",
     "text": [
      "Mean ticket price for Cherbourg passengers: 59.95 GBP, which is 6475.05 in 2017\n",
      "\n",
      "Hypothesis testing:\n",
      "Sample size: 168, df  = 167 \n",
      "\n"
     ]
    },
    {
     "data": {
      "text/plain": [
       "Ttest_indResult(statistic=5.8397069456355295, pvalue=6.9534792765880168e-09)"
      ]
     },
     "execution_count": 68,
     "metadata": {},
     "output_type": "execute_result"
    }
   ],
   "source": [
    "#  Import the ttest_ind funtcion\n",
    "from scipy.stats import ttest_ind\n",
    "\n",
    "# A sample for Cherbourg passengers only \n",
    "sample = titanic_df[(titanic_df.Embarked == \"Cherbourg\")]\n",
    "sample_size = sample['PassengerId'].count()\n",
    "\n",
    "# Use our function to indicate the sample mean in today's prices \n",
    "print 'Mean ticket price for Cherbourg passengers: {} GBP, which is {} in {}\\n'.format(round(sample['Fare'].mean(),2), curr_value(1912, 2017, sample['Fare'].mean()), 2017)\n",
    "\n",
    "# T-test\n",
    "print \"Hypothesis testing:\"\n",
    "print \"Sample size: {}, df  = {} \\n\".format(sample_size, sample_size-1)\n",
    "ttest_ind(sample['Fare'], titanic_df['Fare'])"
   ]
  },
  {
   "cell_type": "markdown",
   "metadata": {},
   "source": [
    "As we can see, the p-value is much less than 0.05 - therefore, the results are statistically significant with α = 0.05 and we should reject the null. \n",
    "\n",
    "**Conclusion 3:** The passengers embarked at Cherbourg purchased more expensive tickets than all the passengers in average. However, we cannot conclude whether they are rich or not as we do not have enough data for this. "
   ]
  },
  {
   "cell_type": "markdown",
   "metadata": {},
   "source": [
    "**4. What was the survival rate for men, women and children? Was sex correlated to survival rate? **\n",
    "\n",
    "Let's start with calculating simple survival statistics for men / women / children, and plotting a graph. "
   ]
  },
  {
   "cell_type": "code",
   "execution_count": 53,
   "metadata": {
    "collapsed": false
   },
   "outputs": [
    {
     "name": "stdout",
     "output_type": "stream",
     "text": [
      "Survivors - men, women and children (%) \n",
      " SStatus\n",
      "child     12.280702\n",
      "female    61.988304\n",
      "male      25.730994\n",
      "Name: Survived, dtype: float64\n"
     ]
    },
    {
     "data": {
      "text/plain": [
       "<matplotlib.text.Text at 0xc3b0a20>"
      ]
     },
     "execution_count": 53,
     "metadata": {},
     "output_type": "execute_result"
    },
    {
     "data": {
      "image/png": "iVBORw0KGgoAAAANSUhEUgAAARgAAAEyCAYAAAAhuc/cAAAABHNCSVQICAgIfAhkiAAAAAlwSFlz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\n/B8JI4l+30+yugAAAABJRU5ErkJggg==\n",
      "text/plain": [
       "<matplotlib.figure.Figure at 0xd05d198>"
      ]
     },
     "metadata": {},
     "output_type": "display_data"
    }
   ],
   "source": [
    "# Calculating the total number of survivors and % of survivors by the passenger type\n",
    "titanic_df_survived = titanic_df[(titanic_df.Survived == 1)]\n",
    "total_survived = titanic_df_survived['PassengerId'].count()\n",
    "survived_percentage = ((titanic_df_survived.groupby('SStatus').count())['Survived']/total_survived)*100\n",
    "\n",
    "print \"Survivors - men, women and children (%) \\n {}\".format(survived_percentage)\n",
    "\n",
    "# Let's set the palette - blue for men, pink for women, yellow for children \n",
    "palette_by_sex = [\"#002388\", \"#e25a8d\", \"#ffeeab\"]\n",
    "sns.set_palette(palette_by_sex)\n",
    "# Plotting \n",
    "sns.factorplot(x='SStatus', y='Survived', data=titanic_df, kind=\"bar\")\n",
    "plt.title(\"Survivors by sex \\n\")\n",
    "plt.ylabel('Mean for survivors (proportion)') \n",
    "plt.xlabel('Sex')"
   ]
  },
  {
   "cell_type": "markdown",
   "metadata": {},
   "source": [
    "The results are in line with what I expected - the principle 'women and children first' is visually compelling. Still, let's use a proper method to derive the statistical significance of relationship between the variables. We can run a [Chi-Square Test](https://en.wikipedia.org/wiki/Chi-squared_test \"Wiki article\") to see what is going on here. \n",
    "\n",
    "God bless the creators of scipy library - there is already a function for that! However, some additional effort is required to build the crosstable sums (contingency table) of each category-relationship, which should look like this: \n",
    "\n",
    "| Survived | child | male | female |\n",
    "|----------|-------|------|--------|\n",
    "| 0        | N1    | N2   | N3     |\n",
    "| 1        | N4    | N5   | N6     |"
   ]
  },
  {
   "cell_type": "code",
   "execution_count": 32,
   "metadata": {
    "collapsed": false
   },
   "outputs": [
    {
     "name": "stdout",
     "output_type": "stream",
     "text": [
      "Contingency table \n",
      "SStatus   child  female  male\n",
      "Survived                     \n",
      "0            29      68   452\n",
      "1            42     212    88\n"
     ]
    },
    {
     "data": {
      "text/plain": [
       "(289.32556061129503,\n",
       " 1.4919448734025728e-63,\n",
       " 2L,\n",
       " array([[  43.74747475,  172.52525253,  332.72727273],\n",
       "        [  27.25252525,  107.47474747,  207.27272727]]))"
      ]
     },
     "execution_count": 32,
     "metadata": {},
     "output_type": "execute_result"
    }
   ],
   "source": [
    "#  Import the chi2_contingency function\n",
    "from scipy.stats import chi2_contingency\n",
    "\n",
    "# build the crosstable sums (contingency table) of each category-relationship\n",
    "def chi2_df(df, var1, var2):\n",
    "    sizes = df.groupby([var1, var2]).size()\n",
    "    # Unstacking moves the inner row indices to the columns\n",
    "    # This is necessary to pass a proper contingency table to the chi2_contingency function\n",
    "    ctsum = sizes.unstack(var1)\n",
    "    # Print the contingency table for information\n",
    "    print \"Contingency table \\n\", ctsum\n",
    "    # Remove any NAs to make the function universal\n",
    "    return(chi2_contingency(ctsum.fillna(0)))\n",
    "\n",
    "chi2_df(titanic_df, 'SStatus', 'Survived')"
   ]
  },
  {
   "cell_type": "markdown",
   "metadata": {},
   "source": [
    "As per the [chi2_contingency documentation](https://docs.scipy.org/doc/scipy/reference/generated/scipy.stats.chi2_contingency.html), the second returned value is the p-value of the test. The results should be interpreted in the following way: \n",
    "* P = 0: both categorical variable are dependent\n",
    "* P = 1: both variables are independent\n",
    "* P < 0.05: the relationship between the variables is significant at 95% confidence\n",
    "\n",
    "As P is much less than 0.05, we can state that gender and survivability are dependant of each other.  \n",
    "\n",
    "**Conclusion 4:** Gender and survivability are dependent (the results are statistically significant with α = 0.05). The survival rate of women and children during the Titanic crash was higher than the survival rate of men. "
   ]
  },
  {
   "cell_type": "markdown",
   "metadata": {},
   "source": [
    "**5. What was the survival rate among different ticket classes? Was ticket class correlated to survival rate?**\n",
    "\n",
    "While the dependence between sex and survivability is really intuitive, it is hard to guess whether the dependence is in place for the ticket class. Let's take a look at a few graphs first: "
   ]
  },
  {
   "cell_type": "code",
   "execution_count": 54,
   "metadata": {
    "collapsed": false
   },
   "outputs": [
    {
     "data": {
      "image/png": "iVBORw0KGgoAAAANSUhEUgAAARgAAAEyCAYAAAAhuc/cAAAABHNCSVQICAgIfAhkiAAAAAlwSFlz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\nAABJRU5ErkJggg==\n",
      "text/plain": [
       "<matplotlib.figure.Figure at 0xf6a1860>"
      ]
     },
     "metadata": {},
     "output_type": "display_data"
    },
    {
     "data": {
      "text/plain": [
       "<matplotlib.text.Text at 0x1048d630>"
      ]
     },
     "execution_count": 54,
     "metadata": {},
     "output_type": "execute_result"
    },
    {
     "data": {
      "image/png": "iVBORw0KGgoAAAANSUhEUgAAAV0AAAD4CAYAAABPLjVeAAAABHNCSVQICAgIfAhkiAAAAAlwSFlz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\nK4QQcfT/AV0jgIiD27k0AAAAAElFTkSuQmCC\n",
      "text/plain": [
       "<matplotlib.figure.Figure at 0xf856be0>"
      ]
     },
     "metadata": {},
     "output_type": "display_data"
    }
   ],
   "source": [
    "# Plotting a factorplot - proportion of survivors among various classes\n",
    "palette_class = [\"#bde3ae\", \"#f9e6be\", \"#bed4f9\"]\n",
    "sns.set_palette(palette_class)\n",
    "sns.factorplot(x='Pclass', y='Survived', data=titanic_df, kind=\"bar\")\n",
    "plt.title(\"Survivors by ticket class \\n\")\n",
    "plt.ylabel('Mean for survivors (proportion)') \n",
    "plt.xlabel('Ticket class')\n",
    "plt.show()\n",
    "\n",
    "# Plotting a pie - ticket classes split between all the survivors \n",
    "survived_by_class = titanic_df_survived.groupby('Pclass')\n",
    "z = survived_by_class.sum()['Survived']/total_survived\n",
    "labels = '1st', '2nd', '3rd' \n",
    "explode = (0.1, 0, 0)  # explode the 1st slice\n",
    "plt.pie(z, explode=explode, labels=labels, colors=palette_class, autopct='%1.1f%%', startangle=90)\n",
    "plt.axis('equal') # making the pie chart flat\n",
    "plt.title(\"Survivors by ticket class\")"
   ]
  },
  {
   "cell_type": "markdown",
   "metadata": {
    "collapsed": true
   },
   "source": [
    "The results above represent two different angles: \n",
    "* Mean for the field 'survived' (proportion of survived) in the subsets for different ticket classes\n",
    "* Distribution of ticket classes among all the survivors\n",
    "\n",
    "From the visuals, it looks that 1st class passengers survived better, but was this because of the ticket class? Looking at the visuals, the correlation is not that clear for the 2nd and 3rd class. Let's run a proper Chi-Square Test for the variables 'Pclass' and 'Survived': "
   ]
  },
  {
   "cell_type": "code",
   "execution_count": 34,
   "metadata": {
    "collapsed": false
   },
   "outputs": [
    {
     "name": "stdout",
     "output_type": "stream",
     "text": [
      "Contingency table \n",
      "Pclass      1   2    3\n",
      "Survived              \n",
      "0          80  97  372\n",
      "1         136  87  119\n"
     ]
    },
    {
     "data": {
      "text/plain": [
       "(102.88898875696056,\n",
       " 4.5492517112987927e-23,\n",
       " 2L,\n",
       " array([[ 133.09090909,  113.37373737,  302.53535354],\n",
       "        [  82.90909091,   70.62626263,  188.46464646]]))"
      ]
     },
     "execution_count": 34,
     "metadata": {},
     "output_type": "execute_result"
    }
   ],
   "source": [
    "chi2_df(titanic_df, 'Pclass', 'Survived')"
   ]
  },
  {
   "cell_type": "markdown",
   "metadata": {},
   "source": [
    "The p-value is almost zero again - therefore, ticket class and survival are dependent. All right, but now I am thinking - could this be because the proportion of women and children was actually higher in the first class? Let's see: "
   ]
  },
  {
   "cell_type": "code",
   "execution_count": 66,
   "metadata": {
    "collapsed": false,
    "scrolled": false
   },
   "outputs": [
    {
     "data": {
      "text/plain": [
       "<matplotlib.text.Text at 0x11a46d30>"
      ]
     },
     "execution_count": 66,
     "metadata": {},
     "output_type": "execute_result"
    },
    {
     "data": {
      "image/png": "iVBORw0KGgoAAAANSUhEUgAAAWYAAAEyCAYAAADJOXr3AAAABHNCSVQICAgIfAhkiAAAAAlwSFlz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\nAABJRU5ErkJggg==\n",
      "text/plain": [
       "<matplotlib.figure.Figure at 0x117722b0>"
      ]
     },
     "metadata": {},
     "output_type": "display_data"
    }
   ],
   "source": [
    "# Plotting split on ticket classes\n",
    "sns.set_palette(palette_by_sex)\n",
    "sns.factorplot('Pclass', order=[1,2,3], data=titanic_df, hue='SStatus', kind='count')\n",
    "plt.title(\"Passengers split by ticket class and status \\n\")\n",
    "plt.ylabel('Number of passengers') \n",
    "plt.xlabel('Ticket class')"
   ]
  },
  {
   "cell_type": "markdown",
   "metadata": {},
   "source": [
    "Now let's draw a similar plot for survivors only and view by sex and ticket class: "
   ]
  },
  {
   "cell_type": "code",
   "execution_count": 69,
   "metadata": {
    "collapsed": false
   },
   "outputs": [
    {
     "data": {
      "text/plain": [
       "<matplotlib.text.Text at 0x122b1c50>"
      ]
     },
     "execution_count": 69,
     "metadata": {},
     "output_type": "execute_result"
    },
    {
     "data": {
      "image/png": "iVBORw0KGgoAAAANSUhEUgAAAWgAAAEyCAYAAADX8EpEAAAABHNCSVQICAgIfAhkiAAAAAlwSFlz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\nRK5CYII=\n",
      "text/plain": [
       "<matplotlib.figure.Figure at 0x11e212e8>"
      ]
     },
     "metadata": {},
     "output_type": "display_data"
    }
   ],
   "source": [
    "# Fix the palette\n",
    "palette_by_sex = [\"#e25a8d\", \"#ffeeab\", \"#002388\"]\n",
    "sns.set_palette(palette_by_sex)\n",
    "sns.factorplot('Pclass', data=titanic_df_survived, hue='SStatus', kind='count')\n",
    "plt.title(\"Survivors by ticket class and sex \\n\")\n",
    "plt.ylabel('Number of survivors') \n",
    "plt.xlabel('Ticket class')"
   ]
  },
  {
   "cell_type": "markdown",
   "metadata": {},
   "source": [
    "Looking specifically at the number of women and children in the first and the third class (total vs survivors), we can witness that the ticket class really had made a difference. Indeed, the total number of women in the third class was higher than in the first class, but it is vice versa for survivors. The same is valid for children. Seems that we should not have questioned the reliability of Chi-Square Test, but it is always good to check for lurking variables and false assumptions. "
   ]
  },
  {
   "cell_type": "markdown",
   "metadata": {},
   "source": [
    "**Conclusion 5:** Ticket class and survivability are dependent (the results are statistically significant with α = 0.05). The survival rate of the first class passengers during the Titanic crash was higher than the survival rate of the second-class passengers. Likewise, the survival rate for the second class was higher than the rate for the third. "
   ]
  },
  {
   "cell_type": "markdown",
   "metadata": {},
   "source": [
    "### 4. Summarising conclusions"
   ]
  },
  {
   "cell_type": "markdown",
   "metadata": {},
   "source": [
    "**Conclusion 1**: The distribution of the age of passengers is positively skewed, and the majority of the passengers were between the age of 20 and 36. For men's age, median and maximum are higher than for women - therefore, we can say that men on the ship were generally older than women. \n",
    "\n",
    "**Conclusion 2**: The mean (average) price for a ticket was 32.2 GBP, and the distribution of ticket prices is positively skewed. The maximum price for a ticket was 512.33 GBP. The current equivalent of these prices is 3478.05 GBP for the mean and 55331.55 GBP for the most expensive ticket. \n",
    "\n",
    "**Conclusion 3:** The passengers embarked at Cherbourg purchased more expensive tickets than all the passengers in average. However, we cannot conclude whether they are rich or not as we do not have enough data for this. \n",
    "\n",
    "**Conclusion 4:** Gender and survivability are dependent (the results are statistically significant with α = 0.05). The survival rate of women and children during the Titanic crash was higher than the survival rate of men. \n",
    "\n",
    "**Conclusion 5:** Ticket class and survivability are dependent (the results are statistically significant with α = 0.05). The survival rate of the first class passengers during the Titanic crash was higher than the survival rate of the second-class passengers. Likewise, the survival rate for the second class was higher than the rate for the third. "
   ]
  }
 ],
 "metadata": {
  "kernelspec": {
   "display_name": "Python 2",
   "language": "python",
   "name": "python2"
  },
  "language_info": {
   "codemirror_mode": {
    "name": "ipython",
    "version": 2
   },
   "file_extension": ".py",
   "mimetype": "text/x-python",
   "name": "python",
   "nbconvert_exporter": "python",
   "pygments_lexer": "ipython2",
   "version": "2.7.13"
  }
 },
 "nbformat": 4,
 "nbformat_minor": 2
}
